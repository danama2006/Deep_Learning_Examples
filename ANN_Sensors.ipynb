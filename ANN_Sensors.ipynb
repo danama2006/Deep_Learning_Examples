{
 "cells": [
  {
   "cell_type": "markdown",
   "metadata": {},
   "source": [
    "## ANN exercise of using some offshore sensor data."
   ]
  },
  {
   "cell_type": "code",
   "execution_count": 1,
   "metadata": {
    "scrolled": true
   },
   "outputs": [],
   "source": [
    "import pandas as pd\n",
    "import numpy as np\n",
    "import matplotlib.pyplot as plt\n",
    "import seaborn as sns\n",
    "\n",
    "%matplotlib inline"
   ]
  },
  {
   "cell_type": "code",
   "execution_count": 2,
   "metadata": {},
   "outputs": [
    {
     "data": {
      "text/html": [
       "<div>\n",
       "<style scoped>\n",
       "    .dataframe tbody tr th:only-of-type {\n",
       "        vertical-align: middle;\n",
       "    }\n",
       "\n",
       "    .dataframe tbody tr th {\n",
       "        vertical-align: top;\n",
       "    }\n",
       "\n",
       "    .dataframe thead th {\n",
       "        text-align: right;\n",
       "    }\n",
       "</style>\n",
       "<table border=\"1\" class=\"dataframe\">\n",
       "  <thead>\n",
       "    <tr style=\"text-align: right;\">\n",
       "      <th></th>\n",
       "      <th>ID</th>\n",
       "      <th>NODE_MINUTES</th>\n",
       "      <th>NODES</th>\n",
       "      <th>EXECUTIONSTART</th>\n",
       "      <th>SHOTS</th>\n",
       "      <th>RESENTSHOTS</th>\n",
       "      <th>RESTART</th>\n",
       "      <th>SCNAME</th>\n",
       "      <th>NTHREADS</th>\n",
       "      <th>NCPU</th>\n",
       "      <th>...</th>\n",
       "      <th>ATTR33</th>\n",
       "      <th>ATTR34</th>\n",
       "      <th>ATTR35</th>\n",
       "      <th>ATTR36</th>\n",
       "      <th>ATTR37</th>\n",
       "      <th>ATTR38</th>\n",
       "      <th>ATTR39</th>\n",
       "      <th>ATTR30</th>\n",
       "      <th>ATTR31.1</th>\n",
       "      <th>ATTR32.1</th>\n",
       "    </tr>\n",
       "  </thead>\n",
       "  <tbody>\n",
       "    <tr>\n",
       "      <th>0</th>\n",
       "      <td>456903204</td>\n",
       "      <td>765</td>\n",
       "      <td>8</td>\n",
       "      <td>2019-06-03 17:06:42</td>\n",
       "      <td>473</td>\n",
       "      <td>0</td>\n",
       "      <td>F</td>\n",
       "      <td>center_6</td>\n",
       "      <td>1</td>\n",
       "      <td>2</td>\n",
       "      <td>...</td>\n",
       "      <td>2046670.0</td>\n",
       "      <td>17593259786</td>\n",
       "      <td>240</td>\n",
       "      <td>8</td>\n",
       "      <td>1918</td>\n",
       "      <td>0</td>\n",
       "      <td>0</td>\n",
       "      <td>0</td>\n",
       "      <td>0</td>\n",
       "      <td>0</td>\n",
       "    </tr>\n",
       "    <tr>\n",
       "      <th>1</th>\n",
       "      <td>456978806</td>\n",
       "      <td>21</td>\n",
       "      <td>4</td>\n",
       "      <td>2019-06-03 17:06:48</td>\n",
       "      <td>4</td>\n",
       "      <td>0</td>\n",
       "      <td>F</td>\n",
       "      <td>center_9</td>\n",
       "      <td>1</td>\n",
       "      <td>2</td>\n",
       "      <td>...</td>\n",
       "      <td>402412.0</td>\n",
       "      <td>1608465252</td>\n",
       "      <td>39</td>\n",
       "      <td>25</td>\n",
       "      <td>961</td>\n",
       "      <td>0</td>\n",
       "      <td>0</td>\n",
       "      <td>0</td>\n",
       "      <td>0</td>\n",
       "      <td>0</td>\n",
       "    </tr>\n",
       "    <tr>\n",
       "      <th>2</th>\n",
       "      <td>457103510</td>\n",
       "      <td>439</td>\n",
       "      <td>8</td>\n",
       "      <td>2019-06-03 17:07:22</td>\n",
       "      <td>36</td>\n",
       "      <td>0</td>\n",
       "      <td>F</td>\n",
       "      <td>center_1</td>\n",
       "      <td>1</td>\n",
       "      <td>4</td>\n",
       "      <td>...</td>\n",
       "      <td>131367.0</td>\n",
       "      <td>446121902</td>\n",
       "      <td>87</td>\n",
       "      <td>9</td>\n",
       "      <td>779</td>\n",
       "      <td>0</td>\n",
       "      <td>0</td>\n",
       "      <td>0</td>\n",
       "      <td>0</td>\n",
       "      <td>0</td>\n",
       "    </tr>\n",
       "    <tr>\n",
       "      <th>3</th>\n",
       "      <td>454781320</td>\n",
       "      <td>3076</td>\n",
       "      <td>24</td>\n",
       "      <td>2019-06-03 17:07:56</td>\n",
       "      <td>57</td>\n",
       "      <td>0</td>\n",
       "      <td>F</td>\n",
       "      <td>center_3</td>\n",
       "      <td>1</td>\n",
       "      <td>2</td>\n",
       "      <td>...</td>\n",
       "      <td>1994010.0</td>\n",
       "      <td>17635135717</td>\n",
       "      <td>219</td>\n",
       "      <td>8</td>\n",
       "      <td>1751</td>\n",
       "      <td>0</td>\n",
       "      <td>0</td>\n",
       "      <td>0</td>\n",
       "      <td>0</td>\n",
       "      <td>0</td>\n",
       "    </tr>\n",
       "    <tr>\n",
       "      <th>4</th>\n",
       "      <td>454781322</td>\n",
       "      <td>3260</td>\n",
       "      <td>24</td>\n",
       "      <td>2019-06-03 17:07:57</td>\n",
       "      <td>56</td>\n",
       "      <td>0</td>\n",
       "      <td>F</td>\n",
       "      <td>center_8</td>\n",
       "      <td>1</td>\n",
       "      <td>4</td>\n",
       "      <td>...</td>\n",
       "      <td>1994010.0</td>\n",
       "      <td>17635135717</td>\n",
       "      <td>219</td>\n",
       "      <td>8</td>\n",
       "      <td>1751</td>\n",
       "      <td>0</td>\n",
       "      <td>0</td>\n",
       "      <td>0</td>\n",
       "      <td>0</td>\n",
       "      <td>0</td>\n",
       "    </tr>\n",
       "  </tbody>\n",
       "</table>\n",
       "<p>5 rows × 52 columns</p>\n",
       "</div>"
      ],
      "text/plain": [
       "          ID  NODE_MINUTES  NODES       EXECUTIONSTART  SHOTS  RESENTSHOTS  \\\n",
       "0  456903204           765      8  2019-06-03 17:06:42    473            0   \n",
       "1  456978806            21      4  2019-06-03 17:06:48      4            0   \n",
       "2  457103510           439      8  2019-06-03 17:07:22     36            0   \n",
       "3  454781320          3076     24  2019-06-03 17:07:56     57            0   \n",
       "4  454781322          3260     24  2019-06-03 17:07:57     56            0   \n",
       "\n",
       "  RESTART    SCNAME  NTHREADS  NCPU  ...     ATTR33       ATTR34 ATTR35  \\\n",
       "0       F  center_6         1     2  ...  2046670.0  17593259786    240   \n",
       "1       F  center_9         1     2  ...   402412.0   1608465252     39   \n",
       "2       F  center_1         1     4  ...   131367.0    446121902     87   \n",
       "3       F  center_3         1     2  ...  1994010.0  17635135717    219   \n",
       "4       F  center_8         1     4  ...  1994010.0  17635135717    219   \n",
       "\n",
       "  ATTR36 ATTR37  ATTR38 ATTR39  ATTR30  ATTR31.1  ATTR32.1  \n",
       "0      8   1918       0      0       0         0         0  \n",
       "1     25    961       0      0       0         0         0  \n",
       "2      9    779       0      0       0         0         0  \n",
       "3      8   1751       0      0       0         0         0  \n",
       "4      8   1751       0      0       0         0         0  \n",
       "\n",
       "[5 rows x 52 columns]"
      ]
     },
     "execution_count": 2,
     "metadata": {},
     "output_type": "execute_result"
    }
   ],
   "source": [
    "df = pd.read_csv('trainData_xiaodan.csv')\n",
    "df.head()"
   ]
  },
  {
   "cell_type": "markdown",
   "metadata": {},
   "source": [
    "# Exploratory Data Analysis"
   ]
  },
  {
   "cell_type": "code",
   "execution_count": 3,
   "metadata": {
    "scrolled": true
   },
   "outputs": [
    {
     "name": "stdout",
     "output_type": "stream",
     "text": [
      "<class 'pandas.core.frame.DataFrame'>\n",
      "RangeIndex: 55092 entries, 0 to 55091\n",
      "Data columns (total 52 columns):\n",
      " #   Column          Non-Null Count  Dtype  \n",
      "---  ------          --------------  -----  \n",
      " 0   ID              55092 non-null  int64  \n",
      " 1   NODE_MINUTES    55092 non-null  int64  \n",
      " 2   NODES           55092 non-null  int64  \n",
      " 3   EXECUTIONSTART  55092 non-null  object \n",
      " 4   SHOTS           55092 non-null  int64  \n",
      " 5   RESENTSHOTS     55092 non-null  int64  \n",
      " 6   RESTART         55092 non-null  object \n",
      " 7   SCNAME          55092 non-null  object \n",
      " 8   NTHREADS        55092 non-null  int64  \n",
      " 9   NCPU            55092 non-null  int64  \n",
      " 10  ATTR01          55092 non-null  object \n",
      " 11  ATTR02          55092 non-null  object \n",
      " 12  ATTR03          55092 non-null  object \n",
      " 13  ATTR04          55092 non-null  object \n",
      " 14  ATTR05          55092 non-null  object \n",
      " 15  ATTR06          55092 non-null  float64\n",
      " 16  ATTR07          55092 non-null  object \n",
      " 17  ATTR08          55092 non-null  int64  \n",
      " 18  ATTR09          55092 non-null  int64  \n",
      " 19  ATTR10          55092 non-null  int64  \n",
      " 20  ATTR11          55092 non-null  int64  \n",
      " 21  ATTR12          55092 non-null  int64  \n",
      " 22  ATTR13          55092 non-null  int64  \n",
      " 23  ATTR14          55092 non-null  int64  \n",
      " 24  ATTR15          55092 non-null  int64  \n",
      " 25  ATTR16          55092 non-null  int64  \n",
      " 26  ATTR17          55092 non-null  int64  \n",
      " 27  ATTR18          55092 non-null  int64  \n",
      " 28  ATTR19          55092 non-null  int64  \n",
      " 29  ATTR20          55092 non-null  int64  \n",
      " 30  ATTR21          55092 non-null  float64\n",
      " 31  ATTR22          55092 non-null  int64  \n",
      " 32  ATTR23          55092 non-null  int64  \n",
      " 33  ATTR24          55092 non-null  int64  \n",
      " 34  ATTR25          55092 non-null  int64  \n",
      " 35  ATTR26          55092 non-null  int64  \n",
      " 36  ATTR27          55092 non-null  int64  \n",
      " 37  ATTR28          55092 non-null  int64  \n",
      " 38  ATTR29          55092 non-null  int64  \n",
      " 39  ATTR20.1        55092 non-null  int64  \n",
      " 40  ATTR31          55092 non-null  int64  \n",
      " 41  ATTR32          55092 non-null  int64  \n",
      " 42  ATTR33          55092 non-null  float64\n",
      " 43  ATTR34          55092 non-null  int64  \n",
      " 44  ATTR35          55092 non-null  int64  \n",
      " 45  ATTR36          55092 non-null  int64  \n",
      " 46  ATTR37          55092 non-null  int64  \n",
      " 47  ATTR38          55092 non-null  int64  \n",
      " 48  ATTR39          55092 non-null  int64  \n",
      " 49  ATTR30          55092 non-null  int64  \n",
      " 50  ATTR31.1        55092 non-null  int64  \n",
      " 51  ATTR32.1        55092 non-null  int64  \n",
      "dtypes: float64(3), int64(40), object(9)\n",
      "memory usage: 21.9+ MB\n"
     ]
    }
   ],
   "source": [
    "df.info()"
   ]
  },
  {
   "cell_type": "code",
   "execution_count": 4,
   "metadata": {
    "scrolled": false
   },
   "outputs": [
    {
     "data": {
      "text/html": [
       "<div>\n",
       "<style scoped>\n",
       "    .dataframe tbody tr th:only-of-type {\n",
       "        vertical-align: middle;\n",
       "    }\n",
       "\n",
       "    .dataframe tbody tr th {\n",
       "        vertical-align: top;\n",
       "    }\n",
       "\n",
       "    .dataframe thead th {\n",
       "        text-align: right;\n",
       "    }\n",
       "</style>\n",
       "<table border=\"1\" class=\"dataframe\">\n",
       "  <thead>\n",
       "    <tr style=\"text-align: right;\">\n",
       "      <th></th>\n",
       "      <th>count</th>\n",
       "      <th>mean</th>\n",
       "      <th>std</th>\n",
       "      <th>min</th>\n",
       "      <th>25%</th>\n",
       "      <th>50%</th>\n",
       "      <th>75%</th>\n",
       "      <th>max</th>\n",
       "    </tr>\n",
       "  </thead>\n",
       "  <tbody>\n",
       "    <tr>\n",
       "      <th>ID</th>\n",
       "      <td>55092.0</td>\n",
       "      <td>4.588988e+08</td>\n",
       "      <td>1.887491e+06</td>\n",
       "      <td>4.477357e+08</td>\n",
       "      <td>4.580031e+08</td>\n",
       "      <td>4.592672e+08</td>\n",
       "      <td>4.601245e+08</td>\n",
       "      <td>4.611672e+08</td>\n",
       "    </tr>\n",
       "    <tr>\n",
       "      <th>NODE_MINUTES</th>\n",
       "      <td>55092.0</td>\n",
       "      <td>9.064669e+02</td>\n",
       "      <td>1.964524e+03</td>\n",
       "      <td>1.100000e+01</td>\n",
       "      <td>6.400000e+01</td>\n",
       "      <td>3.120000e+02</td>\n",
       "      <td>7.590000e+02</td>\n",
       "      <td>3.813700e+04</td>\n",
       "    </tr>\n",
       "    <tr>\n",
       "      <th>NODES</th>\n",
       "      <td>55092.0</td>\n",
       "      <td>8.714260e+00</td>\n",
       "      <td>4.678186e+00</td>\n",
       "      <td>2.000000e+00</td>\n",
       "      <td>4.000000e+00</td>\n",
       "      <td>8.000000e+00</td>\n",
       "      <td>8.000000e+00</td>\n",
       "      <td>8.000000e+01</td>\n",
       "    </tr>\n",
       "    <tr>\n",
       "      <th>SHOTS</th>\n",
       "      <td>55092.0</td>\n",
       "      <td>1.394992e+02</td>\n",
       "      <td>1.623455e+02</td>\n",
       "      <td>1.000000e+00</td>\n",
       "      <td>1.600000e+01</td>\n",
       "      <td>9.700000e+01</td>\n",
       "      <td>2.190000e+02</td>\n",
       "      <td>5.618000e+03</td>\n",
       "    </tr>\n",
       "    <tr>\n",
       "      <th>RESENTSHOTS</th>\n",
       "      <td>55092.0</td>\n",
       "      <td>0.000000e+00</td>\n",
       "      <td>0.000000e+00</td>\n",
       "      <td>0.000000e+00</td>\n",
       "      <td>0.000000e+00</td>\n",
       "      <td>0.000000e+00</td>\n",
       "      <td>0.000000e+00</td>\n",
       "      <td>0.000000e+00</td>\n",
       "    </tr>\n",
       "    <tr>\n",
       "      <th>NTHREADS</th>\n",
       "      <td>55092.0</td>\n",
       "      <td>1.000000e+00</td>\n",
       "      <td>0.000000e+00</td>\n",
       "      <td>1.000000e+00</td>\n",
       "      <td>1.000000e+00</td>\n",
       "      <td>1.000000e+00</td>\n",
       "      <td>1.000000e+00</td>\n",
       "      <td>1.000000e+00</td>\n",
       "    </tr>\n",
       "    <tr>\n",
       "      <th>NCPU</th>\n",
       "      <td>55092.0</td>\n",
       "      <td>3.424163e+00</td>\n",
       "      <td>9.055940e-01</td>\n",
       "      <td>2.000000e+00</td>\n",
       "      <td>2.000000e+00</td>\n",
       "      <td>4.000000e+00</td>\n",
       "      <td>4.000000e+00</td>\n",
       "      <td>4.000000e+00</td>\n",
       "    </tr>\n",
       "    <tr>\n",
       "      <th>ATTR06</th>\n",
       "      <td>55092.0</td>\n",
       "      <td>6.912864e+00</td>\n",
       "      <td>1.363106e+01</td>\n",
       "      <td>0.000000e+00</td>\n",
       "      <td>0.000000e+00</td>\n",
       "      <td>0.000000e+00</td>\n",
       "      <td>1.200000e+01</td>\n",
       "      <td>8.000000e+01</td>\n",
       "    </tr>\n",
       "    <tr>\n",
       "      <th>ATTR08</th>\n",
       "      <td>55092.0</td>\n",
       "      <td>0.000000e+00</td>\n",
       "      <td>0.000000e+00</td>\n",
       "      <td>0.000000e+00</td>\n",
       "      <td>0.000000e+00</td>\n",
       "      <td>0.000000e+00</td>\n",
       "      <td>0.000000e+00</td>\n",
       "      <td>0.000000e+00</td>\n",
       "    </tr>\n",
       "    <tr>\n",
       "      <th>ATTR09</th>\n",
       "      <td>55092.0</td>\n",
       "      <td>0.000000e+00</td>\n",
       "      <td>0.000000e+00</td>\n",
       "      <td>0.000000e+00</td>\n",
       "      <td>0.000000e+00</td>\n",
       "      <td>0.000000e+00</td>\n",
       "      <td>0.000000e+00</td>\n",
       "      <td>0.000000e+00</td>\n",
       "    </tr>\n",
       "    <tr>\n",
       "      <th>ATTR10</th>\n",
       "      <td>55092.0</td>\n",
       "      <td>2.796407e+03</td>\n",
       "      <td>5.193090e+03</td>\n",
       "      <td>6.820000e+02</td>\n",
       "      <td>1.983000e+03</td>\n",
       "      <td>2.364000e+03</td>\n",
       "      <td>2.782000e+03</td>\n",
       "      <td>7.621200e+04</td>\n",
       "    </tr>\n",
       "    <tr>\n",
       "      <th>ATTR11</th>\n",
       "      <td>55092.0</td>\n",
       "      <td>0.000000e+00</td>\n",
       "      <td>0.000000e+00</td>\n",
       "      <td>0.000000e+00</td>\n",
       "      <td>0.000000e+00</td>\n",
       "      <td>0.000000e+00</td>\n",
       "      <td>0.000000e+00</td>\n",
       "      <td>0.000000e+00</td>\n",
       "    </tr>\n",
       "    <tr>\n",
       "      <th>ATTR12</th>\n",
       "      <td>55092.0</td>\n",
       "      <td>0.000000e+00</td>\n",
       "      <td>0.000000e+00</td>\n",
       "      <td>0.000000e+00</td>\n",
       "      <td>0.000000e+00</td>\n",
       "      <td>0.000000e+00</td>\n",
       "      <td>0.000000e+00</td>\n",
       "      <td>0.000000e+00</td>\n",
       "    </tr>\n",
       "    <tr>\n",
       "      <th>ATTR13</th>\n",
       "      <td>55092.0</td>\n",
       "      <td>0.000000e+00</td>\n",
       "      <td>0.000000e+00</td>\n",
       "      <td>0.000000e+00</td>\n",
       "      <td>0.000000e+00</td>\n",
       "      <td>0.000000e+00</td>\n",
       "      <td>0.000000e+00</td>\n",
       "      <td>0.000000e+00</td>\n",
       "    </tr>\n",
       "    <tr>\n",
       "      <th>ATTR14</th>\n",
       "      <td>55092.0</td>\n",
       "      <td>0.000000e+00</td>\n",
       "      <td>0.000000e+00</td>\n",
       "      <td>0.000000e+00</td>\n",
       "      <td>0.000000e+00</td>\n",
       "      <td>0.000000e+00</td>\n",
       "      <td>0.000000e+00</td>\n",
       "      <td>0.000000e+00</td>\n",
       "    </tr>\n",
       "    <tr>\n",
       "      <th>ATTR15</th>\n",
       "      <td>55092.0</td>\n",
       "      <td>0.000000e+00</td>\n",
       "      <td>0.000000e+00</td>\n",
       "      <td>0.000000e+00</td>\n",
       "      <td>0.000000e+00</td>\n",
       "      <td>0.000000e+00</td>\n",
       "      <td>0.000000e+00</td>\n",
       "      <td>0.000000e+00</td>\n",
       "    </tr>\n",
       "    <tr>\n",
       "      <th>ATTR16</th>\n",
       "      <td>55092.0</td>\n",
       "      <td>0.000000e+00</td>\n",
       "      <td>0.000000e+00</td>\n",
       "      <td>0.000000e+00</td>\n",
       "      <td>0.000000e+00</td>\n",
       "      <td>0.000000e+00</td>\n",
       "      <td>0.000000e+00</td>\n",
       "      <td>0.000000e+00</td>\n",
       "    </tr>\n",
       "    <tr>\n",
       "      <th>ATTR17</th>\n",
       "      <td>55092.0</td>\n",
       "      <td>2.562840e+02</td>\n",
       "      <td>8.914341e+01</td>\n",
       "      <td>6.400000e+01</td>\n",
       "      <td>1.920000e+02</td>\n",
       "      <td>2.240000e+02</td>\n",
       "      <td>2.880000e+02</td>\n",
       "      <td>6.720000e+02</td>\n",
       "    </tr>\n",
       "    <tr>\n",
       "      <th>ATTR18</th>\n",
       "      <td>55092.0</td>\n",
       "      <td>2.361407e+02</td>\n",
       "      <td>8.484449e+01</td>\n",
       "      <td>2.500000e+01</td>\n",
       "      <td>1.600000e+02</td>\n",
       "      <td>2.240000e+02</td>\n",
       "      <td>2.560000e+02</td>\n",
       "      <td>6.400000e+02</td>\n",
       "    </tr>\n",
       "    <tr>\n",
       "      <th>ATTR19</th>\n",
       "      <td>55092.0</td>\n",
       "      <td>0.000000e+00</td>\n",
       "      <td>0.000000e+00</td>\n",
       "      <td>0.000000e+00</td>\n",
       "      <td>0.000000e+00</td>\n",
       "      <td>0.000000e+00</td>\n",
       "      <td>0.000000e+00</td>\n",
       "      <td>0.000000e+00</td>\n",
       "    </tr>\n",
       "    <tr>\n",
       "      <th>ATTR20</th>\n",
       "      <td>55092.0</td>\n",
       "      <td>2.665611e+02</td>\n",
       "      <td>1.085729e+02</td>\n",
       "      <td>5.200000e+01</td>\n",
       "      <td>1.850000e+02</td>\n",
       "      <td>2.460000e+02</td>\n",
       "      <td>3.190000e+02</td>\n",
       "      <td>8.320000e+02</td>\n",
       "    </tr>\n",
       "    <tr>\n",
       "      <th>ATTR21</th>\n",
       "      <td>55092.0</td>\n",
       "      <td>5.988211e+01</td>\n",
       "      <td>9.859205e+01</td>\n",
       "      <td>6.400000e-01</td>\n",
       "      <td>1.521100e+01</td>\n",
       "      <td>2.127050e+01</td>\n",
       "      <td>5.223850e+01</td>\n",
       "      <td>9.101030e+02</td>\n",
       "    </tr>\n",
       "    <tr>\n",
       "      <th>ATTR22</th>\n",
       "      <td>55092.0</td>\n",
       "      <td>0.000000e+00</td>\n",
       "      <td>0.000000e+00</td>\n",
       "      <td>0.000000e+00</td>\n",
       "      <td>0.000000e+00</td>\n",
       "      <td>0.000000e+00</td>\n",
       "      <td>0.000000e+00</td>\n",
       "      <td>0.000000e+00</td>\n",
       "    </tr>\n",
       "    <tr>\n",
       "      <th>ATTR23</th>\n",
       "      <td>55092.0</td>\n",
       "      <td>0.000000e+00</td>\n",
       "      <td>0.000000e+00</td>\n",
       "      <td>0.000000e+00</td>\n",
       "      <td>0.000000e+00</td>\n",
       "      <td>0.000000e+00</td>\n",
       "      <td>0.000000e+00</td>\n",
       "      <td>0.000000e+00</td>\n",
       "    </tr>\n",
       "    <tr>\n",
       "      <th>ATTR24</th>\n",
       "      <td>55092.0</td>\n",
       "      <td>0.000000e+00</td>\n",
       "      <td>0.000000e+00</td>\n",
       "      <td>0.000000e+00</td>\n",
       "      <td>0.000000e+00</td>\n",
       "      <td>0.000000e+00</td>\n",
       "      <td>0.000000e+00</td>\n",
       "      <td>0.000000e+00</td>\n",
       "    </tr>\n",
       "    <tr>\n",
       "      <th>ATTR25</th>\n",
       "      <td>55092.0</td>\n",
       "      <td>6.845092e+01</td>\n",
       "      <td>4.084005e+01</td>\n",
       "      <td>1.200000e+01</td>\n",
       "      <td>4.200000e+01</td>\n",
       "      <td>5.900000e+01</td>\n",
       "      <td>7.700000e+01</td>\n",
       "      <td>7.880000e+02</td>\n",
       "    </tr>\n",
       "    <tr>\n",
       "      <th>ATTR26</th>\n",
       "      <td>55092.0</td>\n",
       "      <td>0.000000e+00</td>\n",
       "      <td>0.000000e+00</td>\n",
       "      <td>0.000000e+00</td>\n",
       "      <td>0.000000e+00</td>\n",
       "      <td>0.000000e+00</td>\n",
       "      <td>0.000000e+00</td>\n",
       "      <td>0.000000e+00</td>\n",
       "    </tr>\n",
       "    <tr>\n",
       "      <th>ATTR27</th>\n",
       "      <td>55092.0</td>\n",
       "      <td>0.000000e+00</td>\n",
       "      <td>0.000000e+00</td>\n",
       "      <td>0.000000e+00</td>\n",
       "      <td>0.000000e+00</td>\n",
       "      <td>0.000000e+00</td>\n",
       "      <td>0.000000e+00</td>\n",
       "      <td>0.000000e+00</td>\n",
       "    </tr>\n",
       "    <tr>\n",
       "      <th>ATTR28</th>\n",
       "      <td>55092.0</td>\n",
       "      <td>0.000000e+00</td>\n",
       "      <td>0.000000e+00</td>\n",
       "      <td>0.000000e+00</td>\n",
       "      <td>0.000000e+00</td>\n",
       "      <td>0.000000e+00</td>\n",
       "      <td>0.000000e+00</td>\n",
       "      <td>0.000000e+00</td>\n",
       "    </tr>\n",
       "    <tr>\n",
       "      <th>ATTR29</th>\n",
       "      <td>55092.0</td>\n",
       "      <td>0.000000e+00</td>\n",
       "      <td>0.000000e+00</td>\n",
       "      <td>0.000000e+00</td>\n",
       "      <td>0.000000e+00</td>\n",
       "      <td>0.000000e+00</td>\n",
       "      <td>0.000000e+00</td>\n",
       "      <td>0.000000e+00</td>\n",
       "    </tr>\n",
       "    <tr>\n",
       "      <th>ATTR20.1</th>\n",
       "      <td>55092.0</td>\n",
       "      <td>0.000000e+00</td>\n",
       "      <td>0.000000e+00</td>\n",
       "      <td>0.000000e+00</td>\n",
       "      <td>0.000000e+00</td>\n",
       "      <td>0.000000e+00</td>\n",
       "      <td>0.000000e+00</td>\n",
       "      <td>0.000000e+00</td>\n",
       "    </tr>\n",
       "    <tr>\n",
       "      <th>ATTR31</th>\n",
       "      <td>55092.0</td>\n",
       "      <td>0.000000e+00</td>\n",
       "      <td>0.000000e+00</td>\n",
       "      <td>0.000000e+00</td>\n",
       "      <td>0.000000e+00</td>\n",
       "      <td>0.000000e+00</td>\n",
       "      <td>0.000000e+00</td>\n",
       "      <td>0.000000e+00</td>\n",
       "    </tr>\n",
       "    <tr>\n",
       "      <th>ATTR32</th>\n",
       "      <td>55092.0</td>\n",
       "      <td>0.000000e+00</td>\n",
       "      <td>0.000000e+00</td>\n",
       "      <td>0.000000e+00</td>\n",
       "      <td>0.000000e+00</td>\n",
       "      <td>0.000000e+00</td>\n",
       "      <td>0.000000e+00</td>\n",
       "      <td>0.000000e+00</td>\n",
       "    </tr>\n",
       "    <tr>\n",
       "      <th>ATTR33</th>\n",
       "      <td>55092.0</td>\n",
       "      <td>2.615883e+06</td>\n",
       "      <td>4.109502e+06</td>\n",
       "      <td>6.000000e+00</td>\n",
       "      <td>2.156260e+05</td>\n",
       "      <td>1.439518e+06</td>\n",
       "      <td>2.689509e+06</td>\n",
       "      <td>5.162374e+07</td>\n",
       "    </tr>\n",
       "    <tr>\n",
       "      <th>ATTR34</th>\n",
       "      <td>55092.0</td>\n",
       "      <td>2.029082e+10</td>\n",
       "      <td>3.372938e+10</td>\n",
       "      <td>2.563100e+04</td>\n",
       "      <td>1.367410e+09</td>\n",
       "      <td>9.812927e+09</td>\n",
       "      <td>2.315739e+10</td>\n",
       "      <td>4.299649e+11</td>\n",
       "    </tr>\n",
       "    <tr>\n",
       "      <th>ATTR35</th>\n",
       "      <td>55092.0</td>\n",
       "      <td>2.112094e+02</td>\n",
       "      <td>2.080892e+02</td>\n",
       "      <td>1.300000e+01</td>\n",
       "      <td>3.900000e+01</td>\n",
       "      <td>1.570000e+02</td>\n",
       "      <td>2.250000e+02</td>\n",
       "      <td>1.025000e+03</td>\n",
       "    </tr>\n",
       "    <tr>\n",
       "      <th>ATTR36</th>\n",
       "      <td>55092.0</td>\n",
       "      <td>1.147482e+01</td>\n",
       "      <td>6.250618e+00</td>\n",
       "      <td>2.000000e+00</td>\n",
       "      <td>8.000000e+00</td>\n",
       "      <td>8.000000e+00</td>\n",
       "      <td>2.000000e+01</td>\n",
       "      <td>4.000000e+01</td>\n",
       "    </tr>\n",
       "    <tr>\n",
       "      <th>ATTR37</th>\n",
       "      <td>55092.0</td>\n",
       "      <td>1.519800e+03</td>\n",
       "      <td>7.614831e+02</td>\n",
       "      <td>5.010000e+02</td>\n",
       "      <td>8.970000e+02</td>\n",
       "      <td>1.401000e+03</td>\n",
       "      <td>1.793000e+03</td>\n",
       "      <td>4.097000e+03</td>\n",
       "    </tr>\n",
       "    <tr>\n",
       "      <th>ATTR38</th>\n",
       "      <td>55092.0</td>\n",
       "      <td>2.815022e+05</td>\n",
       "      <td>7.681860e+05</td>\n",
       "      <td>0.000000e+00</td>\n",
       "      <td>0.000000e+00</td>\n",
       "      <td>0.000000e+00</td>\n",
       "      <td>0.000000e+00</td>\n",
       "      <td>1.080660e+07</td>\n",
       "    </tr>\n",
       "    <tr>\n",
       "      <th>ATTR39</th>\n",
       "      <td>55092.0</td>\n",
       "      <td>9.608202e+08</td>\n",
       "      <td>2.880011e+09</td>\n",
       "      <td>0.000000e+00</td>\n",
       "      <td>0.000000e+00</td>\n",
       "      <td>0.000000e+00</td>\n",
       "      <td>0.000000e+00</td>\n",
       "      <td>2.684360e+10</td>\n",
       "    </tr>\n",
       "    <tr>\n",
       "      <th>ATTR30</th>\n",
       "      <td>55092.0</td>\n",
       "      <td>8.202697e+00</td>\n",
       "      <td>3.729680e+01</td>\n",
       "      <td>0.000000e+00</td>\n",
       "      <td>0.000000e+00</td>\n",
       "      <td>0.000000e+00</td>\n",
       "      <td>0.000000e+00</td>\n",
       "      <td>4.010000e+02</td>\n",
       "    </tr>\n",
       "    <tr>\n",
       "      <th>ATTR31.1</th>\n",
       "      <td>55092.0</td>\n",
       "      <td>4.782927e+00</td>\n",
       "      <td>1.636590e+01</td>\n",
       "      <td>0.000000e+00</td>\n",
       "      <td>0.000000e+00</td>\n",
       "      <td>0.000000e+00</td>\n",
       "      <td>0.000000e+00</td>\n",
       "      <td>1.600000e+02</td>\n",
       "    </tr>\n",
       "    <tr>\n",
       "      <th>ATTR32.1</th>\n",
       "      <td>55092.0</td>\n",
       "      <td>1.243687e+02</td>\n",
       "      <td>3.265040e+02</td>\n",
       "      <td>0.000000e+00</td>\n",
       "      <td>0.000000e+00</td>\n",
       "      <td>0.000000e+00</td>\n",
       "      <td>0.000000e+00</td>\n",
       "      <td>2.001000e+03</td>\n",
       "    </tr>\n",
       "  </tbody>\n",
       "</table>\n",
       "</div>"
      ],
      "text/plain": [
       "                count          mean           std           min           25%  \\\n",
       "ID            55092.0  4.588988e+08  1.887491e+06  4.477357e+08  4.580031e+08   \n",
       "NODE_MINUTES  55092.0  9.064669e+02  1.964524e+03  1.100000e+01  6.400000e+01   \n",
       "NODES         55092.0  8.714260e+00  4.678186e+00  2.000000e+00  4.000000e+00   \n",
       "SHOTS         55092.0  1.394992e+02  1.623455e+02  1.000000e+00  1.600000e+01   \n",
       "RESENTSHOTS   55092.0  0.000000e+00  0.000000e+00  0.000000e+00  0.000000e+00   \n",
       "NTHREADS      55092.0  1.000000e+00  0.000000e+00  1.000000e+00  1.000000e+00   \n",
       "NCPU          55092.0  3.424163e+00  9.055940e-01  2.000000e+00  2.000000e+00   \n",
       "ATTR06        55092.0  6.912864e+00  1.363106e+01  0.000000e+00  0.000000e+00   \n",
       "ATTR08        55092.0  0.000000e+00  0.000000e+00  0.000000e+00  0.000000e+00   \n",
       "ATTR09        55092.0  0.000000e+00  0.000000e+00  0.000000e+00  0.000000e+00   \n",
       "ATTR10        55092.0  2.796407e+03  5.193090e+03  6.820000e+02  1.983000e+03   \n",
       "ATTR11        55092.0  0.000000e+00  0.000000e+00  0.000000e+00  0.000000e+00   \n",
       "ATTR12        55092.0  0.000000e+00  0.000000e+00  0.000000e+00  0.000000e+00   \n",
       "ATTR13        55092.0  0.000000e+00  0.000000e+00  0.000000e+00  0.000000e+00   \n",
       "ATTR14        55092.0  0.000000e+00  0.000000e+00  0.000000e+00  0.000000e+00   \n",
       "ATTR15        55092.0  0.000000e+00  0.000000e+00  0.000000e+00  0.000000e+00   \n",
       "ATTR16        55092.0  0.000000e+00  0.000000e+00  0.000000e+00  0.000000e+00   \n",
       "ATTR17        55092.0  2.562840e+02  8.914341e+01  6.400000e+01  1.920000e+02   \n",
       "ATTR18        55092.0  2.361407e+02  8.484449e+01  2.500000e+01  1.600000e+02   \n",
       "ATTR19        55092.0  0.000000e+00  0.000000e+00  0.000000e+00  0.000000e+00   \n",
       "ATTR20        55092.0  2.665611e+02  1.085729e+02  5.200000e+01  1.850000e+02   \n",
       "ATTR21        55092.0  5.988211e+01  9.859205e+01  6.400000e-01  1.521100e+01   \n",
       "ATTR22        55092.0  0.000000e+00  0.000000e+00  0.000000e+00  0.000000e+00   \n",
       "ATTR23        55092.0  0.000000e+00  0.000000e+00  0.000000e+00  0.000000e+00   \n",
       "ATTR24        55092.0  0.000000e+00  0.000000e+00  0.000000e+00  0.000000e+00   \n",
       "ATTR25        55092.0  6.845092e+01  4.084005e+01  1.200000e+01  4.200000e+01   \n",
       "ATTR26        55092.0  0.000000e+00  0.000000e+00  0.000000e+00  0.000000e+00   \n",
       "ATTR27        55092.0  0.000000e+00  0.000000e+00  0.000000e+00  0.000000e+00   \n",
       "ATTR28        55092.0  0.000000e+00  0.000000e+00  0.000000e+00  0.000000e+00   \n",
       "ATTR29        55092.0  0.000000e+00  0.000000e+00  0.000000e+00  0.000000e+00   \n",
       "ATTR20.1      55092.0  0.000000e+00  0.000000e+00  0.000000e+00  0.000000e+00   \n",
       "ATTR31        55092.0  0.000000e+00  0.000000e+00  0.000000e+00  0.000000e+00   \n",
       "ATTR32        55092.0  0.000000e+00  0.000000e+00  0.000000e+00  0.000000e+00   \n",
       "ATTR33        55092.0  2.615883e+06  4.109502e+06  6.000000e+00  2.156260e+05   \n",
       "ATTR34        55092.0  2.029082e+10  3.372938e+10  2.563100e+04  1.367410e+09   \n",
       "ATTR35        55092.0  2.112094e+02  2.080892e+02  1.300000e+01  3.900000e+01   \n",
       "ATTR36        55092.0  1.147482e+01  6.250618e+00  2.000000e+00  8.000000e+00   \n",
       "ATTR37        55092.0  1.519800e+03  7.614831e+02  5.010000e+02  8.970000e+02   \n",
       "ATTR38        55092.0  2.815022e+05  7.681860e+05  0.000000e+00  0.000000e+00   \n",
       "ATTR39        55092.0  9.608202e+08  2.880011e+09  0.000000e+00  0.000000e+00   \n",
       "ATTR30        55092.0  8.202697e+00  3.729680e+01  0.000000e+00  0.000000e+00   \n",
       "ATTR31.1      55092.0  4.782927e+00  1.636590e+01  0.000000e+00  0.000000e+00   \n",
       "ATTR32.1      55092.0  1.243687e+02  3.265040e+02  0.000000e+00  0.000000e+00   \n",
       "\n",
       "                       50%           75%           max  \n",
       "ID            4.592672e+08  4.601245e+08  4.611672e+08  \n",
       "NODE_MINUTES  3.120000e+02  7.590000e+02  3.813700e+04  \n",
       "NODES         8.000000e+00  8.000000e+00  8.000000e+01  \n",
       "SHOTS         9.700000e+01  2.190000e+02  5.618000e+03  \n",
       "RESENTSHOTS   0.000000e+00  0.000000e+00  0.000000e+00  \n",
       "NTHREADS      1.000000e+00  1.000000e+00  1.000000e+00  \n",
       "NCPU          4.000000e+00  4.000000e+00  4.000000e+00  \n",
       "ATTR06        0.000000e+00  1.200000e+01  8.000000e+01  \n",
       "ATTR08        0.000000e+00  0.000000e+00  0.000000e+00  \n",
       "ATTR09        0.000000e+00  0.000000e+00  0.000000e+00  \n",
       "ATTR10        2.364000e+03  2.782000e+03  7.621200e+04  \n",
       "ATTR11        0.000000e+00  0.000000e+00  0.000000e+00  \n",
       "ATTR12        0.000000e+00  0.000000e+00  0.000000e+00  \n",
       "ATTR13        0.000000e+00  0.000000e+00  0.000000e+00  \n",
       "ATTR14        0.000000e+00  0.000000e+00  0.000000e+00  \n",
       "ATTR15        0.000000e+00  0.000000e+00  0.000000e+00  \n",
       "ATTR16        0.000000e+00  0.000000e+00  0.000000e+00  \n",
       "ATTR17        2.240000e+02  2.880000e+02  6.720000e+02  \n",
       "ATTR18        2.240000e+02  2.560000e+02  6.400000e+02  \n",
       "ATTR19        0.000000e+00  0.000000e+00  0.000000e+00  \n",
       "ATTR20        2.460000e+02  3.190000e+02  8.320000e+02  \n",
       "ATTR21        2.127050e+01  5.223850e+01  9.101030e+02  \n",
       "ATTR22        0.000000e+00  0.000000e+00  0.000000e+00  \n",
       "ATTR23        0.000000e+00  0.000000e+00  0.000000e+00  \n",
       "ATTR24        0.000000e+00  0.000000e+00  0.000000e+00  \n",
       "ATTR25        5.900000e+01  7.700000e+01  7.880000e+02  \n",
       "ATTR26        0.000000e+00  0.000000e+00  0.000000e+00  \n",
       "ATTR27        0.000000e+00  0.000000e+00  0.000000e+00  \n",
       "ATTR28        0.000000e+00  0.000000e+00  0.000000e+00  \n",
       "ATTR29        0.000000e+00  0.000000e+00  0.000000e+00  \n",
       "ATTR20.1      0.000000e+00  0.000000e+00  0.000000e+00  \n",
       "ATTR31        0.000000e+00  0.000000e+00  0.000000e+00  \n",
       "ATTR32        0.000000e+00  0.000000e+00  0.000000e+00  \n",
       "ATTR33        1.439518e+06  2.689509e+06  5.162374e+07  \n",
       "ATTR34        9.812927e+09  2.315739e+10  4.299649e+11  \n",
       "ATTR35        1.570000e+02  2.250000e+02  1.025000e+03  \n",
       "ATTR36        8.000000e+00  2.000000e+01  4.000000e+01  \n",
       "ATTR37        1.401000e+03  1.793000e+03  4.097000e+03  \n",
       "ATTR38        0.000000e+00  0.000000e+00  1.080660e+07  \n",
       "ATTR39        0.000000e+00  0.000000e+00  2.684360e+10  \n",
       "ATTR30        0.000000e+00  0.000000e+00  4.010000e+02  \n",
       "ATTR31.1      0.000000e+00  0.000000e+00  1.600000e+02  \n",
       "ATTR32.1      0.000000e+00  0.000000e+00  2.001000e+03  "
      ]
     },
     "execution_count": 4,
     "metadata": {},
     "output_type": "execute_result"
    }
   ],
   "source": [
    "df.describe().transpose()"
   ]
  },
  {
   "cell_type": "code",
   "execution_count": 5,
   "metadata": {},
   "outputs": [
    {
     "data": {
      "text/plain": [
       "<matplotlib.axes._subplots.AxesSubplot at 0xe561a5f0b8>"
      ]
     },
     "execution_count": 5,
     "metadata": {},
     "output_type": "execute_result"
    },
    {
     "data": {
      "image/png": "[encoded data removed]",
      "text/plain": [
       "<Figure size 864x576 with 1 Axes>"
      ]
     },
     "metadata": {
      "needs_background": "light"
     },
     "output_type": "display_data"
    }
   ],
   "source": [
    "plt.figure(figsize=(12,8))\n",
    "sns.distplot(df['NODE_MINUTES'])"
   ]
  },
  {
   "cell_type": "code",
   "execution_count": 6,
   "metadata": {},
   "outputs": [
    {
     "data": {
      "text/plain": [
       "<matplotlib.axes._subplots.AxesSubplot at 0xe559b58630>"
      ]
     },
     "execution_count": 6,
     "metadata": {},
     "output_type": "execute_result"
    },
    {
     "data": {
      "image/png": "[encoded data removed]",
      "text/plain": [
       "<Figure size 864x576 with 1 Axes>"
      ]
     },
     "metadata": {
      "needs_background": "light"
     },
     "output_type": "display_data"
    }
   ],
   "source": [
    "plt.figure(figsize=(12,8))\n",
    "sns.scatterplot(x=\"NODES\", y=\"NODE_MINUTES\", data=df)"
   ]
  },
  {
   "cell_type": "code",
   "execution_count": 7,
   "metadata": {},
   "outputs": [
    {
     "data": {
      "text/plain": [
       "<matplotlib.axes._subplots.AxesSubplot at 0xe5623d2908>"
      ]
     },
     "execution_count": 7,
     "metadata": {},
     "output_type": "execute_result"
    },
    {
     "data": {
      "image/png": "[encoded data removed]",
      "text/plain": [
       "<Figure size 864x576 with 1 Axes>"
      ]
     },
     "metadata": {
      "needs_background": "light"
     },
     "output_type": "display_data"
    }
   ],
   "source": [
    "plt.figure(figsize=(12,8))\n",
    "sns.scatterplot(x='ID',y='NODE_MINUTES',data=df)"
   ]
  },
  {
   "cell_type": "markdown",
   "metadata": {},
   "source": [
    "# Working with Feature Data"
   ]
  },
  {
   "cell_type": "code",
   "execution_count": 8,
   "metadata": {},
   "outputs": [
    {
     "data": {
      "text/plain": [
       "Index(['ID', 'NODE_MINUTES', 'NODES', 'EXECUTIONSTART', 'SHOTS', 'RESENTSHOTS',\n",
       "       'RESTART', 'SCNAME', 'NTHREADS', 'NCPU', 'ATTR01', 'ATTR02', 'ATTR03',\n",
       "       'ATTR04', 'ATTR05', 'ATTR06', 'ATTR07', 'ATTR08', 'ATTR09', 'ATTR10',\n",
       "       'ATTR11', 'ATTR12', 'ATTR13', 'ATTR14', 'ATTR15', 'ATTR16', 'ATTR17',\n",
       "       'ATTR18', 'ATTR19', 'ATTR20', 'ATTR21', 'ATTR22', 'ATTR23', 'ATTR24',\n",
       "       'ATTR25', 'ATTR26', 'ATTR27', 'ATTR28', 'ATTR29', 'ATTR20.1', 'ATTR31',\n",
       "       'ATTR32', 'ATTR33', 'ATTR34', 'ATTR35', 'ATTR36', 'ATTR37', 'ATTR38',\n",
       "       'ATTR39', 'ATTR30', 'ATTR31.1', 'ATTR32.1'],\n",
       "      dtype='object')"
      ]
     },
     "execution_count": 8,
     "metadata": {},
     "output_type": "execute_result"
    }
   ],
   "source": [
    "df.columns"
   ]
  },
  {
   "cell_type": "code",
   "execution_count": 9,
   "metadata": {
    "scrolled": true
   },
   "outputs": [
    {
     "data": {
      "text/html": [
       "<div>\n",
       "<style scoped>\n",
       "    .dataframe tbody tr th:only-of-type {\n",
       "        vertical-align: middle;\n",
       "    }\n",
       "\n",
       "    .dataframe tbody tr th {\n",
       "        vertical-align: top;\n",
       "    }\n",
       "\n",
       "    .dataframe thead th {\n",
       "        text-align: right;\n",
       "    }\n",
       "</style>\n",
       "<table border=\"1\" class=\"dataframe\">\n",
       "  <thead>\n",
       "    <tr style=\"text-align: right;\">\n",
       "      <th></th>\n",
       "      <th>ID</th>\n",
       "      <th>NODE_MINUTES</th>\n",
       "      <th>NODES</th>\n",
       "      <th>EXECUTIONSTART</th>\n",
       "      <th>SHOTS</th>\n",
       "      <th>NCPU</th>\n",
       "      <th>ATTR06</th>\n",
       "      <th>ATTR10</th>\n",
       "      <th>ATTR17</th>\n",
       "      <th>ATTR18</th>\n",
       "      <th>...</th>\n",
       "      <th>ATTR33</th>\n",
       "      <th>ATTR34</th>\n",
       "      <th>ATTR35</th>\n",
       "      <th>ATTR36</th>\n",
       "      <th>ATTR37</th>\n",
       "      <th>ATTR38</th>\n",
       "      <th>ATTR39</th>\n",
       "      <th>ATTR30</th>\n",
       "      <th>ATTR31.1</th>\n",
       "      <th>ATTR32.1</th>\n",
       "    </tr>\n",
       "  </thead>\n",
       "  <tbody>\n",
       "    <tr>\n",
       "      <th>0</th>\n",
       "      <td>456903204</td>\n",
       "      <td>765</td>\n",
       "      <td>8</td>\n",
       "      <td>2019-06-03 17:06:42</td>\n",
       "      <td>473</td>\n",
       "      <td>2</td>\n",
       "      <td>0.0</td>\n",
       "      <td>2174</td>\n",
       "      <td>192</td>\n",
       "      <td>160</td>\n",
       "      <td>...</td>\n",
       "      <td>2046670.0</td>\n",
       "      <td>17593259786</td>\n",
       "      <td>240</td>\n",
       "      <td>8</td>\n",
       "      <td>1918</td>\n",
       "      <td>0</td>\n",
       "      <td>0</td>\n",
       "      <td>0</td>\n",
       "      <td>0</td>\n",
       "      <td>0</td>\n",
       "    </tr>\n",
       "    <tr>\n",
       "      <th>1</th>\n",
       "      <td>456978806</td>\n",
       "      <td>21</td>\n",
       "      <td>4</td>\n",
       "      <td>2019-06-03 17:06:48</td>\n",
       "      <td>4</td>\n",
       "      <td>2</td>\n",
       "      <td>15.0</td>\n",
       "      <td>3002</td>\n",
       "      <td>192</td>\n",
       "      <td>192</td>\n",
       "      <td>...</td>\n",
       "      <td>402412.0</td>\n",
       "      <td>1608465252</td>\n",
       "      <td>39</td>\n",
       "      <td>25</td>\n",
       "      <td>961</td>\n",
       "      <td>0</td>\n",
       "      <td>0</td>\n",
       "      <td>0</td>\n",
       "      <td>0</td>\n",
       "      <td>0</td>\n",
       "    </tr>\n",
       "    <tr>\n",
       "      <th>2</th>\n",
       "      <td>457103510</td>\n",
       "      <td>439</td>\n",
       "      <td>8</td>\n",
       "      <td>2019-06-03 17:07:22</td>\n",
       "      <td>36</td>\n",
       "      <td>4</td>\n",
       "      <td>0.0</td>\n",
       "      <td>4340</td>\n",
       "      <td>256</td>\n",
       "      <td>256</td>\n",
       "      <td>...</td>\n",
       "      <td>131367.0</td>\n",
       "      <td>446121902</td>\n",
       "      <td>87</td>\n",
       "      <td>9</td>\n",
       "      <td>779</td>\n",
       "      <td>0</td>\n",
       "      <td>0</td>\n",
       "      <td>0</td>\n",
       "      <td>0</td>\n",
       "      <td>0</td>\n",
       "    </tr>\n",
       "    <tr>\n",
       "      <th>3</th>\n",
       "      <td>454781320</td>\n",
       "      <td>3076</td>\n",
       "      <td>24</td>\n",
       "      <td>2019-06-03 17:07:56</td>\n",
       "      <td>57</td>\n",
       "      <td>2</td>\n",
       "      <td>36.0</td>\n",
       "      <td>4116</td>\n",
       "      <td>384</td>\n",
       "      <td>320</td>\n",
       "      <td>...</td>\n",
       "      <td>1994010.0</td>\n",
       "      <td>17635135717</td>\n",
       "      <td>219</td>\n",
       "      <td>8</td>\n",
       "      <td>1751</td>\n",
       "      <td>0</td>\n",
       "      <td>0</td>\n",
       "      <td>0</td>\n",
       "      <td>0</td>\n",
       "      <td>0</td>\n",
       "    </tr>\n",
       "    <tr>\n",
       "      <th>4</th>\n",
       "      <td>454781322</td>\n",
       "      <td>3260</td>\n",
       "      <td>24</td>\n",
       "      <td>2019-06-03 17:07:57</td>\n",
       "      <td>56</td>\n",
       "      <td>4</td>\n",
       "      <td>36.0</td>\n",
       "      <td>4116</td>\n",
       "      <td>384</td>\n",
       "      <td>320</td>\n",
       "      <td>...</td>\n",
       "      <td>1994010.0</td>\n",
       "      <td>17635135717</td>\n",
       "      <td>219</td>\n",
       "      <td>8</td>\n",
       "      <td>1751</td>\n",
       "      <td>0</td>\n",
       "      <td>0</td>\n",
       "      <td>0</td>\n",
       "      <td>0</td>\n",
       "      <td>0</td>\n",
       "    </tr>\n",
       "  </tbody>\n",
       "</table>\n",
       "<p>5 rows × 23 columns</p>\n",
       "</div>"
      ],
      "text/plain": [
       "          ID  NODE_MINUTES  NODES       EXECUTIONSTART  SHOTS  NCPU  ATTR06  \\\n",
       "0  456903204           765      8  2019-06-03 17:06:42    473     2     0.0   \n",
       "1  456978806            21      4  2019-06-03 17:06:48      4     2    15.0   \n",
       "2  457103510           439      8  2019-06-03 17:07:22     36     4     0.0   \n",
       "3  454781320          3076     24  2019-06-03 17:07:56     57     2    36.0   \n",
       "4  454781322          3260     24  2019-06-03 17:07:57     56     4    36.0   \n",
       "\n",
       "   ATTR10  ATTR17  ATTR18  ...     ATTR33       ATTR34  ATTR35  ATTR36  \\\n",
       "0    2174     192     160  ...  2046670.0  17593259786     240       8   \n",
       "1    3002     192     192  ...   402412.0   1608465252      39      25   \n",
       "2    4340     256     256  ...   131367.0    446121902      87       9   \n",
       "3    4116     384     320  ...  1994010.0  17635135717     219       8   \n",
       "4    4116     384     320  ...  1994010.0  17635135717     219       8   \n",
       "\n",
       "   ATTR37  ATTR38  ATTR39  ATTR30  ATTR31.1  ATTR32.1  \n",
       "0    1918       0       0       0         0         0  \n",
       "1     961       0       0       0         0         0  \n",
       "2     779       0       0       0         0         0  \n",
       "3    1751       0       0       0         0         0  \n",
       "4    1751       0       0       0         0         0  \n",
       "\n",
       "[5 rows x 23 columns]"
      ]
     },
     "execution_count": 9,
     "metadata": {},
     "output_type": "execute_result"
    }
   ],
   "source": [
    "keep_col = ['ID', 'NODE_MINUTES', 'NODES', 'EXECUTIONSTART', 'SHOTS', 'NCPU', \n",
    "            'ATTR06', 'ATTR10', 'ATTR17', 'ATTR18', 'ATTR20', 'ATTR21', \n",
    "            'ATTR25', 'ATTR33', 'ATTR34', 'ATTR35', 'ATTR36', 'ATTR37', \n",
    "            'ATTR38', 'ATTR39', 'ATTR30', 'ATTR31.1', 'ATTR32.1']\n",
    "newdf = df[keep_col].copy()\n",
    "newdf.head()"
   ]
  },
  {
   "cell_type": "markdown",
   "metadata": {},
   "source": [
    "# Feature Engineering from Date"
   ]
  },
  {
   "cell_type": "code",
   "execution_count": 10,
   "metadata": {},
   "outputs": [
    {
     "data": {
      "text/html": [
       "<div>\n",
       "<style scoped>\n",
       "    .dataframe tbody tr th:only-of-type {\n",
       "        vertical-align: middle;\n",
       "    }\n",
       "\n",
       "    .dataframe tbody tr th {\n",
       "        vertical-align: top;\n",
       "    }\n",
       "\n",
       "    .dataframe thead th {\n",
       "        text-align: right;\n",
       "    }\n",
       "</style>\n",
       "<table border=\"1\" class=\"dataframe\">\n",
       "  <thead>\n",
       "    <tr style=\"text-align: right;\">\n",
       "      <th></th>\n",
       "      <th>ID</th>\n",
       "      <th>NODE_MINUTES</th>\n",
       "      <th>NODES</th>\n",
       "      <th>EXECUTIONSTART</th>\n",
       "      <th>SHOTS</th>\n",
       "      <th>NCPU</th>\n",
       "      <th>ATTR06</th>\n",
       "      <th>ATTR10</th>\n",
       "      <th>ATTR17</th>\n",
       "      <th>ATTR18</th>\n",
       "      <th>...</th>\n",
       "      <th>ATTR33</th>\n",
       "      <th>ATTR34</th>\n",
       "      <th>ATTR35</th>\n",
       "      <th>ATTR36</th>\n",
       "      <th>ATTR37</th>\n",
       "      <th>ATTR38</th>\n",
       "      <th>ATTR39</th>\n",
       "      <th>ATTR30</th>\n",
       "      <th>ATTR31.1</th>\n",
       "      <th>ATTR32.1</th>\n",
       "    </tr>\n",
       "  </thead>\n",
       "  <tbody>\n",
       "    <tr>\n",
       "      <th>0</th>\n",
       "      <td>456903204</td>\n",
       "      <td>765</td>\n",
       "      <td>8</td>\n",
       "      <td>2019-06-03 17:06:42</td>\n",
       "      <td>473</td>\n",
       "      <td>2</td>\n",
       "      <td>0.0</td>\n",
       "      <td>2174</td>\n",
       "      <td>192</td>\n",
       "      <td>160</td>\n",
       "      <td>...</td>\n",
       "      <td>2046670.0</td>\n",
       "      <td>17593259786</td>\n",
       "      <td>240</td>\n",
       "      <td>8</td>\n",
       "      <td>1918</td>\n",
       "      <td>0</td>\n",
       "      <td>0</td>\n",
       "      <td>0</td>\n",
       "      <td>0</td>\n",
       "      <td>0</td>\n",
       "    </tr>\n",
       "    <tr>\n",
       "      <th>1</th>\n",
       "      <td>456978806</td>\n",
       "      <td>21</td>\n",
       "      <td>4</td>\n",
       "      <td>2019-06-03 17:06:48</td>\n",
       "      <td>4</td>\n",
       "      <td>2</td>\n",
       "      <td>15.0</td>\n",
       "      <td>3002</td>\n",
       "      <td>192</td>\n",
       "      <td>192</td>\n",
       "      <td>...</td>\n",
       "      <td>402412.0</td>\n",
       "      <td>1608465252</td>\n",
       "      <td>39</td>\n",
       "      <td>25</td>\n",
       "      <td>961</td>\n",
       "      <td>0</td>\n",
       "      <td>0</td>\n",
       "      <td>0</td>\n",
       "      <td>0</td>\n",
       "      <td>0</td>\n",
       "    </tr>\n",
       "    <tr>\n",
       "      <th>2</th>\n",
       "      <td>457103510</td>\n",
       "      <td>439</td>\n",
       "      <td>8</td>\n",
       "      <td>2019-06-03 17:07:22</td>\n",
       "      <td>36</td>\n",
       "      <td>4</td>\n",
       "      <td>0.0</td>\n",
       "      <td>4340</td>\n",
       "      <td>256</td>\n",
       "      <td>256</td>\n",
       "      <td>...</td>\n",
       "      <td>131367.0</td>\n",
       "      <td>446121902</td>\n",
       "      <td>87</td>\n",
       "      <td>9</td>\n",
       "      <td>779</td>\n",
       "      <td>0</td>\n",
       "      <td>0</td>\n",
       "      <td>0</td>\n",
       "      <td>0</td>\n",
       "      <td>0</td>\n",
       "    </tr>\n",
       "    <tr>\n",
       "      <th>3</th>\n",
       "      <td>454781320</td>\n",
       "      <td>3076</td>\n",
       "      <td>24</td>\n",
       "      <td>2019-06-03 17:07:56</td>\n",
       "      <td>57</td>\n",
       "      <td>2</td>\n",
       "      <td>36.0</td>\n",
       "      <td>4116</td>\n",
       "      <td>384</td>\n",
       "      <td>320</td>\n",
       "      <td>...</td>\n",
       "      <td>1994010.0</td>\n",
       "      <td>17635135717</td>\n",
       "      <td>219</td>\n",
       "      <td>8</td>\n",
       "      <td>1751</td>\n",
       "      <td>0</td>\n",
       "      <td>0</td>\n",
       "      <td>0</td>\n",
       "      <td>0</td>\n",
       "      <td>0</td>\n",
       "    </tr>\n",
       "    <tr>\n",
       "      <th>4</th>\n",
       "      <td>454781322</td>\n",
       "      <td>3260</td>\n",
       "      <td>24</td>\n",
       "      <td>2019-06-03 17:07:57</td>\n",
       "      <td>56</td>\n",
       "      <td>4</td>\n",
       "      <td>36.0</td>\n",
       "      <td>4116</td>\n",
       "      <td>384</td>\n",
       "      <td>320</td>\n",
       "      <td>...</td>\n",
       "      <td>1994010.0</td>\n",
       "      <td>17635135717</td>\n",
       "      <td>219</td>\n",
       "      <td>8</td>\n",
       "      <td>1751</td>\n",
       "      <td>0</td>\n",
       "      <td>0</td>\n",
       "      <td>0</td>\n",
       "      <td>0</td>\n",
       "      <td>0</td>\n",
       "    </tr>\n",
       "  </tbody>\n",
       "</table>\n",
       "<p>5 rows × 23 columns</p>\n",
       "</div>"
      ],
      "text/plain": [
       "          ID  NODE_MINUTES  NODES      EXECUTIONSTART  SHOTS  NCPU  ATTR06  \\\n",
       "0  456903204           765      8 2019-06-03 17:06:42    473     2     0.0   \n",
       "1  456978806            21      4 2019-06-03 17:06:48      4     2    15.0   \n",
       "2  457103510           439      8 2019-06-03 17:07:22     36     4     0.0   \n",
       "3  454781320          3076     24 2019-06-03 17:07:56     57     2    36.0   \n",
       "4  454781322          3260     24 2019-06-03 17:07:57     56     4    36.0   \n",
       "\n",
       "   ATTR10  ATTR17  ATTR18  ...     ATTR33       ATTR34  ATTR35  ATTR36  \\\n",
       "0    2174     192     160  ...  2046670.0  17593259786     240       8   \n",
       "1    3002     192     192  ...   402412.0   1608465252      39      25   \n",
       "2    4340     256     256  ...   131367.0    446121902      87       9   \n",
       "3    4116     384     320  ...  1994010.0  17635135717     219       8   \n",
       "4    4116     384     320  ...  1994010.0  17635135717     219       8   \n",
       "\n",
       "   ATTR37  ATTR38  ATTR39  ATTR30  ATTR31.1  ATTR32.1  \n",
       "0    1918       0       0       0         0         0  \n",
       "1     961       0       0       0         0         0  \n",
       "2     779       0       0       0         0         0  \n",
       "3    1751       0       0       0         0         0  \n",
       "4    1751       0       0       0         0         0  \n",
       "\n",
       "[5 rows x 23 columns]"
      ]
     },
     "execution_count": 10,
     "metadata": {},
     "output_type": "execute_result"
    }
   ],
   "source": [
    "newdf['EXECUTIONSTART'] = pd.to_datetime(newdf['EXECUTIONSTART'])\n",
    "newdf.head()"
   ]
  },
  {
   "cell_type": "code",
   "execution_count": 11,
   "metadata": {
    "scrolled": false
   },
   "outputs": [
    {
     "data": {
      "text/plain": [
       "<matplotlib.axes._subplots.AxesSubplot at 0xe56237fc18>"
      ]
     },
     "execution_count": 11,
     "metadata": {},
     "output_type": "execute_result"
    },
    {
     "data": {
      "image/png": "[encoded data removed]",
      "text/plain": [
       "<Figure size 864x576 with 1 Axes>"
      ]
     },
     "metadata": {
      "needs_background": "light"
     },
     "output_type": "display_data"
    }
   ],
   "source": [
    "plt.figure(figsize=(12,8))\n",
    "sns.lineplot(x='EXECUTIONSTART',y='NODE_MINUTES',data=newdf)"
   ]
  },
  {
   "cell_type": "code",
   "execution_count": 15,
   "metadata": {
    "scrolled": false
   },
   "outputs": [
    {
     "data": {
      "text/plain": [
       "<matplotlib.axes._subplots.AxesSubplot at 0xe562dba9e8>"
      ]
     },
     "execution_count": 15,
     "metadata": {},
     "output_type": "execute_result"
    },
    {
     "data": {
      "image/png": "[encoded data removed]",
      "text/plain": [
       "<Figure size 864x576 with 1 Axes>"
      ]
     },
     "metadata": {
      "needs_background": "light"
     },
     "output_type": "display_data"
    }
   ],
   "source": [
    "plt.figure(figsize=(12,8))\n",
    "sns.lineplot(x='EXECUTIONSTART', y='SHOTS', data=newdf)"
   ]
  },
  {
   "cell_type": "code",
   "execution_count": 17,
   "metadata": {
    "scrolled": false
   },
   "outputs": [
    {
     "data": {
      "text/plain": [
       "<matplotlib.axes._subplots.AxesSubplot at 0xe562de9a90>"
      ]
     },
     "execution_count": 17,
     "metadata": {},
     "output_type": "execute_result"
    },
    {
     "data": {
      "image/png": "[encoded data removed]",
      "text/plain": [
       "<Figure size 864x576 with 1 Axes>"
      ]
     },
     "metadata": {
      "needs_background": "light"
     },
     "output_type": "display_data"
    }
   ],
   "source": [
    "plt.figure(figsize=(12,8))\n",
    "sns.lineplot(x='EXECUTIONSTART', y='NODES', data=newdf)"
   ]
  },
  {
   "cell_type": "code",
   "execution_count": 18,
   "metadata": {},
   "outputs": [],
   "source": [
    "newdf = newdf.drop('EXECUTIONSTART',axis=1)"
   ]
  },
  {
   "cell_type": "code",
   "execution_count": 19,
   "metadata": {},
   "outputs": [
    {
     "data": {
      "text/plain": [
       "Index(['ID', 'NODE_MINUTES', 'NODES', 'SHOTS', 'NCPU', 'ATTR06', 'ATTR10',\n",
       "       'ATTR17', 'ATTR18', 'ATTR20', 'ATTR21', 'ATTR25', 'ATTR33', 'ATTR34',\n",
       "       'ATTR35', 'ATTR36', 'ATTR37', 'ATTR38', 'ATTR39', 'ATTR30', 'ATTR31.1',\n",
       "       'ATTR32.1'],\n",
       "      dtype='object')"
      ]
     },
     "execution_count": 19,
     "metadata": {},
     "output_type": "execute_result"
    }
   ],
   "source": [
    "newdf.columns"
   ]
  },
  {
   "cell_type": "markdown",
   "metadata": {},
   "source": [
    "# Scaling and Train Test Split"
   ]
  },
  {
   "cell_type": "code",
   "execution_count": 20,
   "metadata": {},
   "outputs": [],
   "source": [
    "X = newdf.drop('NODE_MINUTES',axis=1)\n",
    "y = newdf['NODE_MINUTES']"
   ]
  },
  {
   "cell_type": "code",
   "execution_count": 21,
   "metadata": {},
   "outputs": [],
   "source": [
    "from sklearn.model_selection import train_test_split"
   ]
  },
  {
   "cell_type": "code",
   "execution_count": 22,
   "metadata": {},
   "outputs": [],
   "source": [
    "X_train, X_test, y_train, y_test = train_test_split(X,y,test_size=0.2,random_state=101)"
   ]
  },
  {
   "cell_type": "markdown",
   "metadata": {},
   "source": [
    "# Scaling"
   ]
  },
  {
   "cell_type": "code",
   "execution_count": 23,
   "metadata": {},
   "outputs": [],
   "source": [
    "from sklearn.preprocessing import MinMaxScaler"
   ]
  },
  {
   "cell_type": "code",
   "execution_count": 24,
   "metadata": {},
   "outputs": [],
   "source": [
    "scaler = MinMaxScaler()"
   ]
  },
  {
   "cell_type": "code",
   "execution_count": 25,
   "metadata": {},
   "outputs": [],
   "source": [
    "X_train= scaler.fit_transform(X_train)"
   ]
  },
  {
   "cell_type": "code",
   "execution_count": 26,
   "metadata": {},
   "outputs": [],
   "source": [
    "X_test = scaler.transform(X_test)"
   ]
  },
  {
   "cell_type": "code",
   "execution_count": 27,
   "metadata": {},
   "outputs": [
    {
     "data": {
      "text/plain": [
       "((44073, 21), (11019, 21))"
      ]
     },
     "execution_count": 27,
     "metadata": {},
     "output_type": "execute_result"
    }
   ],
   "source": [
    "X_train.shape, X_test.shape"
   ]
  },
  {
   "cell_type": "markdown",
   "metadata": {},
   "source": [
    "# Creating a Model"
   ]
  },
  {
   "cell_type": "code",
   "execution_count": 28,
   "metadata": {},
   "outputs": [],
   "source": [
    "from tensorflow.keras.models import Sequential\n",
    "from tensorflow.keras.layers import Dense, Activation\n",
    "# from tensorflow.keras.optimizers import Adam\n",
    "from tensorflow.keras.callbacks import EarlyStopping\n",
    "from tensorflow.keras import optimizers"
   ]
  },
  {
   "cell_type": "code",
   "execution_count": 29,
   "metadata": {},
   "outputs": [],
   "source": [
    "# first model\n",
    "# model = Sequential()\n",
    "\n",
    "# model.add(Dense(19,activation='relu'))\n",
    "# model.add(Dense(19,activation='relu'))\n",
    "# model.add(Dense(19,activation='relu'))\n",
    "# model.add(Dense(19,activation='relu'))\n",
    "# model.add(Dense(1))\n",
    "\n",
    "# model.compile(optimizer='adam',loss='mse')"
   ]
  },
  {
   "cell_type": "code",
   "execution_count": 81,
   "metadata": {},
   "outputs": [],
   "source": [
    "model = Sequential()\n",
    "\n",
    "model.add(Dense(114,activation='relu', input_shape=(21,)))\n",
    "model.add(Dense(76,activation='relu'))\n",
    "model.add(Dense(38,activation='relu'))\n",
    "model.add(Dense(19,activation='relu'))\n",
    "model.add(Dense(1))\n",
    "\n",
    "adam = optimizers.Adam(learning_rate=0.01, beta_1=0.9, beta_2=0.999, amsgrad=False)\n",
    "model.compile(optimizer=adam,loss='mae')"
   ]
  },
  {
   "cell_type": "markdown",
   "metadata": {},
   "source": [
    "# Training the Model"
   ]
  },
  {
   "cell_type": "code",
   "execution_count": 82,
   "metadata": {
    "scrolled": true
   },
   "outputs": [
    {
     "name": "stdout",
     "output_type": "stream",
     "text": [
      "Train on 35258 samples, validate on 8815 samples\n",
      "Epoch 1/250\n",
      "35258/35258 [==============================] - 2s 71us/sample - loss: 538.1659 - val_loss: 458.9299\n",
      "Epoch 2/250\n",
      "35258/35258 [==============================] - 2s 47us/sample - loss: 416.9586 - val_loss: 407.7092\n",
      "Epoch 3/250\n",
      "35258/35258 [==============================] - 2s 45us/sample - loss: 371.0148 - val_loss: 368.6092\n",
      "Epoch 4/250\n",
      "35258/35258 [==============================] - 1s 40us/sample - loss: 331.8032 - val_loss: 333.4965\n",
      "Epoch 5/250\n",
      "35258/35258 [==============================] - 2s 45us/sample - loss: 312.5284 - val_loss: 324.5941\n",
      "Epoch 6/250\n",
      "35258/35258 [==============================] - 1s 41us/sample - loss: 299.2507 - val_loss: 317.6770\n",
      "Epoch 7/250\n",
      "35258/35258 [==============================] - 2s 54us/sample - loss: 295.7509 - val_loss: 296.9088\n",
      "Epoch 8/250\n",
      "35258/35258 [==============================] - 2s 61us/sample - loss: 285.1886 - val_loss: 301.3451\n",
      "Epoch 9/250\n",
      "35258/35258 [==============================] - 2s 44us/sample - loss: 283.6546 - val_loss: 299.1514\n",
      "Epoch 10/250\n",
      "35258/35258 [==============================] - 2s 58us/sample - loss: 282.5823 - val_loss: 290.8072\n",
      "Epoch 11/250\n",
      "35258/35258 [==============================] - 2s 55us/sample - loss: 276.6369 - val_loss: 283.6692\n",
      "Epoch 12/250\n",
      "35258/35258 [==============================] - 2s 57us/sample - loss: 275.9414 - val_loss: 274.6907\n",
      "Epoch 13/250\n",
      "35258/35258 [==============================] - 2s 58us/sample - loss: 272.9627 - val_loss: 281.1254\n",
      "Epoch 14/250\n",
      "35258/35258 [==============================] - 1s 40us/sample - loss: 268.8300 - val_loss: 311.0776\n",
      "Epoch 15/250\n",
      "35258/35258 [==============================] - 1s 40us/sample - loss: 271.6431 - val_loss: 298.0912\n",
      "Epoch 16/250\n",
      "35258/35258 [==============================] - 1s 39us/sample - loss: 267.5115 - val_loss: 278.5692\n",
      "Epoch 17/250\n",
      "35258/35258 [==============================] - 1s 38us/sample - loss: 268.1830 - val_loss: 272.4580\n",
      "Epoch 18/250\n",
      "35258/35258 [==============================] - 1s 41us/sample - loss: 263.7849 - val_loss: 272.1410\n",
      "Epoch 19/250\n",
      "35258/35258 [==============================] - 2s 47us/sample - loss: 259.4902 - val_loss: 267.8634\n",
      "Epoch 20/250\n",
      "35258/35258 [==============================] - 2s 52us/sample - loss: 261.5339 - val_loss: 276.7073\n",
      "Epoch 21/250\n",
      "35258/35258 [==============================] - 2s 46us/sample - loss: 261.3999 - val_loss: 288.6488\n",
      "Epoch 22/250\n",
      "35258/35258 [==============================] - 1s 40us/sample - loss: 260.7884 - val_loss: 292.0470\n",
      "Epoch 23/250\n",
      "35258/35258 [==============================] - 1s 35us/sample - loss: 260.1634 - val_loss: 284.0053\n",
      "Epoch 24/250\n",
      "35258/35258 [==============================] - 2s 44us/sample - loss: 258.0498 - val_loss: 270.3584\n",
      "Epoch 25/250\n",
      "35258/35258 [==============================] - 1s 38us/sample - loss: 255.5005 - val_loss: 275.4482\n",
      "Epoch 26/250\n",
      "35258/35258 [==============================] - 1s 36us/sample - loss: 256.8794 - val_loss: 270.9480\n",
      "Epoch 27/250\n",
      "35258/35258 [==============================] - 1s 37us/sample - loss: 255.4998 - val_loss: 259.8675\n",
      "Epoch 28/250\n",
      "35258/35258 [==============================] - 1s 38us/sample - loss: 255.8551 - val_loss: 259.5936\n",
      "Epoch 29/250\n",
      "35258/35258 [==============================] - 1s 39us/sample - loss: 254.4136 - val_loss: 268.0493\n",
      "Epoch 30/250\n",
      "35258/35258 [==============================] - 1s 39us/sample - loss: 253.6982 - val_loss: 271.1552\n",
      "Epoch 31/250\n",
      "35258/35258 [==============================] - 1s 36us/sample - loss: 251.5877 - val_loss: 268.4397\n",
      "Epoch 32/250\n",
      "35258/35258 [==============================] - 1s 38us/sample - loss: 253.5390 - val_loss: 259.1892\n",
      "Epoch 33/250\n",
      "35258/35258 [==============================] - 2s 45us/sample - loss: 252.1037 - val_loss: 273.8394\n",
      "Epoch 34/250\n",
      "35258/35258 [==============================] - 1s 39us/sample - loss: 249.4356 - val_loss: 274.1321\n",
      "Epoch 35/250\n",
      "35258/35258 [==============================] - 2s 51us/sample - loss: 251.2531 - val_loss: 253.5366\n",
      "Epoch 36/250\n",
      "35258/35258 [==============================] - 2s 49us/sample - loss: 248.7282 - val_loss: 255.9608\n",
      "Epoch 37/250\n",
      "35258/35258 [==============================] - 1s 36us/sample - loss: 251.8694 - val_loss: 256.2740\n",
      "Epoch 38/250\n",
      "35258/35258 [==============================] - 1s 36us/sample - loss: 249.3888 - val_loss: 273.3817\n",
      "Epoch 39/250\n",
      "35258/35258 [==============================] - 1s 37us/sample - loss: 243.6913 - val_loss: 262.3749\n",
      "Epoch 40/250\n",
      "35258/35258 [==============================] - 1s 36us/sample - loss: 244.8777 - val_loss: 255.1378\n",
      "Epoch 41/250\n",
      "35258/35258 [==============================] - 1s 38us/sample - loss: 243.5676 - val_loss: 274.5588\n",
      "Epoch 42/250\n",
      "35258/35258 [==============================] - 1s 36us/sample - loss: 244.1881 - val_loss: 260.2137\n",
      "Epoch 43/250\n",
      "35258/35258 [==============================] - 1s 36us/sample - loss: 243.9019 - val_loss: 252.4942\n",
      "Epoch 44/250\n",
      "35258/35258 [==============================] - 2s 43us/sample - loss: 241.4417 - val_loss: 259.1944\n",
      "Epoch 45/250\n",
      "35258/35258 [==============================] - 2s 43us/sample - loss: 239.3239 - val_loss: 255.9342\n",
      "Epoch 46/250\n",
      "35258/35258 [==============================] - 1s 36us/sample - loss: 243.4441 - val_loss: 248.4243\n",
      "Epoch 47/250\n",
      "35258/35258 [==============================] - 1s 39us/sample - loss: 239.4812 - val_loss: 246.9192\n",
      "Epoch 48/250\n",
      "35258/35258 [==============================] - 1s 37us/sample - loss: 239.4063 - val_loss: 243.2308\n",
      "Epoch 49/250\n",
      "35258/35258 [==============================] - 2s 44us/sample - loss: 236.5501 - val_loss: 241.5661\n",
      "Epoch 50/250\n",
      "35258/35258 [==============================] - 2s 47us/sample - loss: 231.8934 - val_loss: 251.9983\n",
      "Epoch 51/250\n",
      "35258/35258 [==============================] - 2s 48us/sample - loss: 229.9641 - val_loss: 240.9422\n",
      "Epoch 52/250\n",
      "35258/35258 [==============================] - 2s 44us/sample - loss: 230.2908 - val_loss: 238.8429\n",
      "Epoch 53/250\n",
      "35258/35258 [==============================] - 1s 40us/sample - loss: 228.5158 - val_loss: 243.0601\n",
      "Epoch 54/250\n",
      "35258/35258 [==============================] - 1s 41us/sample - loss: 225.0846 - val_loss: 243.2670\n",
      "Epoch 55/250\n",
      "35258/35258 [==============================] - 2s 43us/sample - loss: 228.0697 - val_loss: 235.8246\n",
      "Epoch 56/250\n",
      "35258/35258 [==============================] - 1s 39us/sample - loss: 227.3856 - val_loss: 233.1703\n",
      "Epoch 57/250\n",
      "35258/35258 [==============================] - 1s 37us/sample - loss: 222.4249 - val_loss: 221.6129\n",
      "Epoch 58/250\n",
      "35258/35258 [==============================] - 1s 36us/sample - loss: 222.0194 - val_loss: 239.4459\n",
      "Epoch 59/250\n",
      "35258/35258 [==============================] - 1s 36us/sample - loss: 221.0441 - val_loss: 220.5893\n",
      "Epoch 60/250\n",
      "35258/35258 [==============================] - 1s 35us/sample - loss: 216.8897 - val_loss: 230.8440\n",
      "Epoch 61/250\n",
      "35258/35258 [==============================] - 1s 37us/sample - loss: 216.7205 - val_loss: 220.6624\n",
      "Epoch 62/250\n",
      "35258/35258 [==============================] - 1s 36us/sample - loss: 216.3722 - val_loss: 232.5689\n",
      "Epoch 63/250\n",
      "35258/35258 [==============================] - 1s 37us/sample - loss: 217.3974 - val_loss: 228.6061\n",
      "Epoch 64/250\n",
      "35258/35258 [==============================] - 1s 36us/sample - loss: 216.7452 - val_loss: 228.6006\n",
      "Epoch 65/250\n",
      "35258/35258 [==============================] - 1s 38us/sample - loss: 214.8347 - val_loss: 229.6911\n",
      "Epoch 66/250\n",
      "35258/35258 [==============================] - 2s 43us/sample - loss: 216.6747 - val_loss: 227.7386\n",
      "Epoch 67/250\n",
      "35258/35258 [==============================] - 2s 45us/sample - loss: 214.9858 - val_loss: 230.4989\n",
      "Epoch 68/250\n",
      "35258/35258 [==============================] - 1s 38us/sample - loss: 211.3547 - val_loss: 223.5885\n",
      "Epoch 69/250\n",
      "35258/35258 [==============================] - 1s 37us/sample - loss: 210.5464 - val_loss: 216.7595\n",
      "Epoch 70/250\n",
      "35258/35258 [==============================] - 1s 36us/sample - loss: 210.4913 - val_loss: 220.9730\n",
      "Epoch 71/250\n",
      "35258/35258 [==============================] - 1s 38us/sample - loss: 211.2840 - val_loss: 210.2336\n",
      "Epoch 72/250\n",
      "35258/35258 [==============================] - 1s 38us/sample - loss: 213.4593 - val_loss: 225.1097\n",
      "Epoch 73/250\n",
      "35258/35258 [==============================] - 1s 36us/sample - loss: 207.4676 - val_loss: 213.4126\n",
      "Epoch 74/250\n",
      "35258/35258 [==============================] - 1s 35us/sample - loss: 210.1436 - val_loss: 223.3109\n",
      "Epoch 75/250\n",
      "35258/35258 [==============================] - 1s 35us/sample - loss: 210.1343 - val_loss: 209.8687\n",
      "Epoch 76/250\n",
      "35258/35258 [==============================] - 1s 36us/sample - loss: 205.1429 - val_loss: 217.6382\n",
      "Epoch 77/250\n",
      "35258/35258 [==============================] - 1s 35us/sample - loss: 204.6508 - val_loss: 209.1428\n",
      "Epoch 78/250\n",
      "35258/35258 [==============================] - 1s 38us/sample - loss: 205.3986 - val_loss: 213.6086\n",
      "Epoch 79/250\n",
      "35258/35258 [==============================] - 2s 45us/sample - loss: 204.2141 - val_loss: 208.8467\n",
      "Epoch 80/250\n",
      "35258/35258 [==============================] - 1s 38us/sample - loss: 204.5898 - val_loss: 207.8101\n",
      "Epoch 81/250\n",
      "35258/35258 [==============================] - 2s 46us/sample - loss: 201.0583 - val_loss: 236.7383\n",
      "Epoch 82/250\n",
      "35258/35258 [==============================] - 2s 55us/sample - loss: 204.0608 - val_loss: 219.3411\n",
      "Epoch 83/250\n",
      "35258/35258 [==============================] - 2s 56us/sample - loss: 205.1949 - val_loss: 214.9187\n",
      "Epoch 84/250\n",
      "35258/35258 [==============================] - 2s 52us/sample - loss: 202.2597 - val_loss: 214.7400\n",
      "Epoch 85/250\n",
      "35258/35258 [==============================] - 2s 43us/sample - loss: 198.5314 - val_loss: 204.0548\n",
      "Epoch 86/250\n",
      "35258/35258 [==============================] - 1s 42us/sample - loss: 199.1675 - val_loss: 235.5042\n",
      "Epoch 87/250\n",
      "35258/35258 [==============================] - 1s 36us/sample - loss: 200.4097 - val_loss: 216.1310\n",
      "Epoch 88/250\n",
      "35258/35258 [==============================] - 1s 39us/sample - loss: 199.5480 - val_loss: 205.3681\n",
      "Epoch 89/250\n",
      "35258/35258 [==============================] - 2s 45us/sample - loss: 197.6856 - val_loss: 207.5931\n",
      "Epoch 90/250\n",
      "35258/35258 [==============================] - 1s 41us/sample - loss: 198.1201 - val_loss: 212.8977\n",
      "Epoch 91/250\n",
      "35258/35258 [==============================] - 1s 35us/sample - loss: 195.5620 - val_loss: 211.2496\n",
      "Epoch 92/250\n",
      "35258/35258 [==============================] - 1s 36us/sample - loss: 196.5197 - val_loss: 226.4916\n",
      "Epoch 93/250\n",
      "35258/35258 [==============================] - 1s 37us/sample - loss: 196.4218 - val_loss: 208.8530\n",
      "Epoch 94/250\n",
      "35258/35258 [==============================] - 1s 37us/sample - loss: 197.7636 - val_loss: 208.8943\n",
      "Epoch 95/250\n",
      "35258/35258 [==============================] - 1s 36us/sample - loss: 196.1093 - val_loss: 202.9101\n",
      "Epoch 96/250\n",
      "35258/35258 [==============================] - 1s 36us/sample - loss: 192.5237 - val_loss: 208.6798\n",
      "Epoch 97/250\n",
      "35258/35258 [==============================] - 1s 39us/sample - loss: 196.7612 - val_loss: 209.1757\n",
      "Epoch 98/250\n",
      "35258/35258 [==============================] - 1s 37us/sample - loss: 197.9041 - val_loss: 233.0687\n",
      "Epoch 99/250\n",
      "35258/35258 [==============================] - 1s 36us/sample - loss: 193.1858 - val_loss: 206.5996\n",
      "Epoch 100/250\n",
      "35258/35258 [==============================] - 1s 37us/sample - loss: 192.6296 - val_loss: 198.7389\n",
      "Epoch 101/250\n",
      "35258/35258 [==============================] - 2s 44us/sample - loss: 193.1600 - val_loss: 223.5549\n",
      "Epoch 102/250\n",
      "35258/35258 [==============================] - 1s 39us/sample - loss: 196.2889 - val_loss: 205.7121\n",
      "Epoch 103/250\n",
      "35258/35258 [==============================] - 1s 35us/sample - loss: 193.6801 - val_loss: 197.7608\n",
      "Epoch 104/250\n",
      "35258/35258 [==============================] - 1s 36us/sample - loss: 190.4487 - val_loss: 204.3407\n",
      "Epoch 105/250\n",
      "35258/35258 [==============================] - 1s 34us/sample - loss: 190.1290 - val_loss: 211.2447\n",
      "Epoch 106/250\n",
      "35258/35258 [==============================] - 1s 38us/sample - loss: 192.6801 - val_loss: 208.6686\n",
      "Epoch 107/250\n",
      "35258/35258 [==============================] - 1s 38us/sample - loss: 190.9089 - val_loss: 207.9023\n",
      "Epoch 108/250\n",
      "35258/35258 [==============================] - 1s 36us/sample - loss: 192.8554 - val_loss: 203.7190\n",
      "Epoch 109/250\n",
      "35258/35258 [==============================] - 1s 37us/sample - loss: 190.3532 - val_loss: 202.3711\n",
      "Epoch 110/250\n",
      "35258/35258 [==============================] - 1s 38us/sample - loss: 190.6064 - val_loss: 205.4988\n",
      "Epoch 111/250\n",
      "35258/35258 [==============================] - 1s 37us/sample - loss: 190.6633 - val_loss: 212.2333\n",
      "Epoch 112/250\n",
      "35258/35258 [==============================] - 2s 45us/sample - loss: 191.3290 - val_loss: 198.4835\n",
      "Epoch 113/250\n",
      "35258/35258 [==============================] - 2s 52us/sample - loss: 188.9512 - val_loss: 204.3881\n",
      "Epoch 114/250\n",
      "35258/35258 [==============================] - 2s 51us/sample - loss: 189.2900 - val_loss: 198.4538\n",
      "Epoch 115/250\n",
      "35258/35258 [==============================] - 1s 40us/sample - loss: 190.8339 - val_loss: 212.2039\n",
      "Epoch 116/250\n",
      "35258/35258 [==============================] - 1s 41us/sample - loss: 191.1351 - val_loss: 211.2187\n",
      "Epoch 117/250\n",
      "35258/35258 [==============================] - 1s 37us/sample - loss: 188.3834 - val_loss: 198.0926\n",
      "Epoch 118/250\n",
      "35258/35258 [==============================] - 1s 38us/sample - loss: 190.8534 - val_loss: 198.0376\n",
      "Epoch 119/250\n",
      "35258/35258 [==============================] - 1s 36us/sample - loss: 188.4830 - val_loss: 205.0442\n",
      "Epoch 120/250\n",
      "35258/35258 [==============================] - 1s 38us/sample - loss: 188.9686 - val_loss: 200.7762\n",
      "Epoch 121/250\n",
      "35258/35258 [==============================] - 1s 39us/sample - loss: 190.0008 - val_loss: 208.3356\n",
      "Epoch 122/250\n",
      "35258/35258 [==============================] - 1s 36us/sample - loss: 189.7369 - val_loss: 196.2056\n",
      "Epoch 123/250\n",
      "35258/35258 [==============================] - 1s 37us/sample - loss: 189.0696 - val_loss: 206.4369\n",
      "Epoch 124/250\n",
      "35258/35258 [==============================] - 2s 46us/sample - loss: 188.9808 - val_loss: 211.0914\n",
      "Epoch 125/250\n",
      "35258/35258 [==============================] - 2s 49us/sample - loss: 188.6135 - val_loss: 194.6117\n",
      "Epoch 126/250\n",
      "35258/35258 [==============================] - 1s 38us/sample - loss: 189.7400 - val_loss: 201.8786\n",
      "Epoch 127/250\n",
      "35258/35258 [==============================] - 1s 36us/sample - loss: 187.1768 - val_loss: 206.6016\n",
      "Epoch 128/250\n",
      "35258/35258 [==============================] - 1s 40us/sample - loss: 187.3048 - val_loss: 203.6463\n",
      "Epoch 129/250\n",
      "35258/35258 [==============================] - 1s 41us/sample - loss: 188.1688 - val_loss: 205.6762\n",
      "Epoch 130/250\n",
      "35258/35258 [==============================] - 1s 39us/sample - loss: 189.3583 - val_loss: 200.7069\n",
      "Epoch 131/250\n",
      "35258/35258 [==============================] - 1s 39us/sample - loss: 188.5718 - val_loss: 196.4715\n",
      "Epoch 132/250\n",
      "35258/35258 [==============================] - 2s 52us/sample - loss: 187.7257 - val_loss: 200.9706\n",
      "Epoch 133/250\n",
      "35258/35258 [==============================] - 2s 49us/sample - loss: 185.9943 - val_loss: 198.1384\n",
      "Epoch 134/250\n",
      "35258/35258 [==============================] - 2s 46us/sample - loss: 186.0261 - val_loss: 198.2604\n",
      "Epoch 135/250\n",
      "35258/35258 [==============================] - 2s 50us/sample - loss: 187.1944 - val_loss: 193.3457\n",
      "Epoch 136/250\n",
      "35258/35258 [==============================] - 2s 45us/sample - loss: 186.7732 - val_loss: 199.0252\n",
      "Epoch 137/250\n",
      "35258/35258 [==============================] - 2s 44us/sample - loss: 185.2279 - val_loss: 198.8874\n",
      "Epoch 138/250\n",
      "35258/35258 [==============================] - 2s 47us/sample - loss: 187.5636 - val_loss: 199.4113\n",
      "Epoch 139/250\n",
      "35258/35258 [==============================] - 2s 47us/sample - loss: 187.5715 - val_loss: 192.6747\n",
      "Epoch 140/250\n",
      "35258/35258 [==============================] - 1s 39us/sample - loss: 184.8483 - val_loss: 203.7571\n",
      "Epoch 141/250\n",
      "35258/35258 [==============================] - 1s 42us/sample - loss: 184.4864 - val_loss: 201.4699\n",
      "Epoch 142/250\n",
      "35258/35258 [==============================] - 2s 43us/sample - loss: 187.0225 - val_loss: 193.5808\n",
      "Epoch 143/250\n",
      "35258/35258 [==============================] - 2s 66us/sample - loss: 185.9964 - val_loss: 207.9561\n",
      "Epoch 144/250\n",
      "35258/35258 [==============================] - 2s 55us/sample - loss: 185.1323 - val_loss: 196.7948\n",
      "Epoch 145/250\n"
     ]
    },
    {
     "name": "stdout",
     "output_type": "stream",
     "text": [
      "35258/35258 [==============================] - 2s 55us/sample - loss: 187.0762 - val_loss: 204.3773\n",
      "Epoch 146/250\n",
      "35258/35258 [==============================] - 2s 54us/sample - loss: 185.9414 - val_loss: 203.6911\n",
      "Epoch 147/250\n",
      "35258/35258 [==============================] - 2s 51us/sample - loss: 185.2340 - val_loss: 198.3199\n",
      "Epoch 148/250\n",
      "35258/35258 [==============================] - 2s 49us/sample - loss: 185.3115 - val_loss: 201.3816\n",
      "Epoch 149/250\n",
      "35258/35258 [==============================] - 2s 48us/sample - loss: 185.0631 - val_loss: 196.9502\n",
      "Epoch 150/250\n",
      "35258/35258 [==============================] - 2s 54us/sample - loss: 183.6514 - val_loss: 194.0723\n",
      "Epoch 151/250\n",
      "35258/35258 [==============================] - 2s 50us/sample - loss: 183.3104 - val_loss: 201.7559\n",
      "Epoch 152/250\n",
      "35258/35258 [==============================] - 2s 51us/sample - loss: 184.1040 - val_loss: 193.1386\n",
      "Epoch 153/250\n",
      "35258/35258 [==============================] - 2s 53us/sample - loss: 183.5960 - val_loss: 192.4170\n",
      "Epoch 154/250\n",
      "35258/35258 [==============================] - 2s 54us/sample - loss: 185.0305 - val_loss: 191.7663\n",
      "Epoch 155/250\n",
      "35258/35258 [==============================] - 2s 54us/sample - loss: 186.5207 - val_loss: 196.0477\n",
      "Epoch 156/250\n",
      "35258/35258 [==============================] - 2s 54us/sample - loss: 183.8485 - val_loss: 194.2498\n",
      "Epoch 157/250\n",
      "35258/35258 [==============================] - 2s 50us/sample - loss: 182.0051 - val_loss: 194.5664\n",
      "Epoch 158/250\n",
      "35258/35258 [==============================] - 2s 51us/sample - loss: 184.6503 - val_loss: 193.2366\n",
      "Epoch 159/250\n",
      "35258/35258 [==============================] - 2s 53us/sample - loss: 182.7285 - val_loss: 197.6141\n",
      "Epoch 160/250\n",
      "35258/35258 [==============================] - 2s 56us/sample - loss: 181.5891 - val_loss: 195.8941\n",
      "Epoch 161/250\n",
      "35258/35258 [==============================] - 2s 51us/sample - loss: 183.1793 - val_loss: 219.4600\n",
      "Epoch 162/250\n",
      "35258/35258 [==============================] - 2s 57us/sample - loss: 184.7387 - val_loss: 193.5863\n",
      "Epoch 163/250\n",
      "35258/35258 [==============================] - 2s 54us/sample - loss: 182.4306 - val_loss: 195.6107\n",
      "Epoch 164/250\n",
      "35258/35258 [==============================] - 2s 49us/sample - loss: 182.9820 - val_loss: 190.3764\n",
      "Epoch 165/250\n",
      "35258/35258 [==============================] - 2s 50us/sample - loss: 181.1205 - val_loss: 191.9138\n",
      "Epoch 166/250\n",
      "35258/35258 [==============================] - 2s 52us/sample - loss: 182.5432 - val_loss: 192.5127\n",
      "Epoch 167/250\n",
      "35258/35258 [==============================] - 2s 53us/sample - loss: 183.2428 - val_loss: 209.1390\n",
      "Epoch 168/250\n",
      "35258/35258 [==============================] - 2s 47us/sample - loss: 182.8001 - val_loss: 190.4378\n",
      "Epoch 169/250\n",
      "35258/35258 [==============================] - 2s 54us/sample - loss: 182.8684 - val_loss: 188.7849\n",
      "Epoch 170/250\n",
      "35258/35258 [==============================] - 2s 58us/sample - loss: 183.7259 - val_loss: 193.8073\n",
      "Epoch 171/250\n",
      "35258/35258 [==============================] - 2s 58us/sample - loss: 181.8523 - val_loss: 196.9981\n",
      "Epoch 172/250\n",
      "35258/35258 [==============================] - 2s 54us/sample - loss: 183.0341 - val_loss: 190.2487\n",
      "Epoch 173/250\n",
      "35258/35258 [==============================] - 2s 53us/sample - loss: 180.9342 - val_loss: 197.3915\n",
      "Epoch 174/250\n",
      "35258/35258 [==============================] - 2s 45us/sample - loss: 180.8805 - val_loss: 190.9552\n",
      "Epoch 175/250\n",
      "35258/35258 [==============================] - 1s 40us/sample - loss: 180.9112 - val_loss: 193.1933\n",
      "Epoch 176/250\n",
      "35258/35258 [==============================] - 2s 46us/sample - loss: 182.4734 - val_loss: 190.3479\n",
      "Epoch 177/250\n",
      "35258/35258 [==============================] - 2s 43us/sample - loss: 181.1216 - val_loss: 195.3874\n",
      "Epoch 178/250\n",
      "35258/35258 [==============================] - 1s 36us/sample - loss: 184.2326 - val_loss: 191.0046\n",
      "Epoch 179/250\n",
      "35258/35258 [==============================] - 1s 41us/sample - loss: 180.6304 - val_loss: 187.0084\n",
      "Epoch 180/250\n",
      "35258/35258 [==============================] - 2s 46us/sample - loss: 182.5289 - val_loss: 194.5864\n",
      "Epoch 181/250\n",
      "35258/35258 [==============================] - 1s 37us/sample - loss: 181.3873 - val_loss: 193.4038\n",
      "Epoch 182/250\n",
      "35258/35258 [==============================] - 1s 38us/sample - loss: 181.1506 - val_loss: 189.8686\n",
      "Epoch 183/250\n",
      "35258/35258 [==============================] - 1s 36us/sample - loss: 181.9162 - val_loss: 204.3613\n",
      "Epoch 184/250\n",
      "35258/35258 [==============================] - 1s 35us/sample - loss: 182.3835 - val_loss: 196.7616\n",
      "Epoch 185/250\n",
      "35258/35258 [==============================] - 1s 35us/sample - loss: 179.9300 - val_loss: 189.8214\n",
      "Epoch 186/250\n",
      "35258/35258 [==============================] - 1s 36us/sample - loss: 180.4679 - val_loss: 192.1152\n",
      "Epoch 187/250\n",
      "35258/35258 [==============================] - 1s 35us/sample - loss: 180.9732 - val_loss: 203.0844\n",
      "Epoch 188/250\n",
      "35258/35258 [==============================] - 1s 39us/sample - loss: 179.5008 - val_loss: 198.3430\n",
      "Epoch 189/250\n",
      "35258/35258 [==============================] - 2s 46us/sample - loss: 178.5313 - val_loss: 195.8185\n",
      "Epoch 190/250\n",
      "35258/35258 [==============================] - 2s 44us/sample - loss: 180.1816 - val_loss: 194.5457\n",
      "Epoch 191/250\n",
      "35258/35258 [==============================] - 2s 49us/sample - loss: 179.8842 - val_loss: 191.0539\n",
      "Epoch 192/250\n",
      "35258/35258 [==============================] - 2s 45us/sample - loss: 179.7535 - val_loss: 199.1070\n",
      "Epoch 193/250\n",
      "35258/35258 [==============================] - 1s 35us/sample - loss: 179.1394 - val_loss: 188.7381\n",
      "Epoch 194/250\n",
      "35258/35258 [==============================] - 1s 34us/sample - loss: 177.7942 - val_loss: 205.9045\n",
      "Epoch 195/250\n",
      "35258/35258 [==============================] - 1s 35us/sample - loss: 178.9736 - val_loss: 190.8969\n",
      "Epoch 196/250\n",
      "35258/35258 [==============================] - 1s 35us/sample - loss: 177.5676 - val_loss: 192.3851\n",
      "Epoch 197/250\n",
      "35258/35258 [==============================] - 1s 37us/sample - loss: 178.6925 - val_loss: 189.9189\n",
      "Epoch 198/250\n",
      "35258/35258 [==============================] - 2s 43us/sample - loss: 179.5089 - val_loss: 200.8670\n",
      "Epoch 199/250\n",
      "35258/35258 [==============================] - 1s 39us/sample - loss: 179.8920 - val_loss: 193.3319\n"
     ]
    },
    {
     "data": {
      "text/plain": [
       "<tensorflow.python.keras.callbacks.History at 0xe579d9ebe0>"
      ]
     },
     "execution_count": 82,
     "metadata": {},
     "output_type": "execute_result"
    }
   ],
   "source": [
    "earlystop_callback = EarlyStopping(monitor='val_loss', min_delta=0.05, patience=20, verbose=0)\n",
    "model.fit(x=X_train,y=y_train.values, callbacks=[earlystop_callback],\n",
    "          validation_split=0.2, batch_size=128,epochs=250)"
   ]
  },
  {
   "cell_type": "code",
   "execution_count": 84,
   "metadata": {
    "scrolled": true
   },
   "outputs": [
    {
     "data": {
      "text/plain": [
       "<matplotlib.axes._subplots.AxesSubplot at 0xe57c7b2710>"
      ]
     },
     "execution_count": 84,
     "metadata": {},
     "output_type": "execute_result"
    },
    {
     "data": {
      "image/png": "[encoded data removed]",
      "text/plain": [
       "<Figure size 432x288 with 1 Axes>"
      ]
     },
     "metadata": {
      "needs_background": "light"
     },
     "output_type": "display_data"
    }
   ],
   "source": [
    "losses = pd.DataFrame(model.history.history)\n",
    "losses.plot()"
   ]
  },
  {
   "cell_type": "code",
   "execution_count": null,
   "metadata": {},
   "outputs": [],
   "source": []
  },
  {
   "cell_type": "code",
   "execution_count": 101,
   "metadata": {},
   "outputs": [],
   "source": []
  },
  {
   "cell_type": "markdown",
   "metadata": {},
   "source": [
    "# Evaluation on Test Data"
   ]
  },
  {
   "cell_type": "code",
   "execution_count": 33,
   "metadata": {},
   "outputs": [],
   "source": [
    "from sklearn.metrics import mean_squared_error,mean_absolute_error,explained_variance_score, r2_score"
   ]
  },
  {
   "cell_type": "code",
   "execution_count": 85,
   "metadata": {},
   "outputs": [],
   "source": [
    "predictions = model.predict(X_test)"
   ]
  },
  {
   "cell_type": "code",
   "execution_count": 86,
   "metadata": {},
   "outputs": [
    {
     "data": {
      "text/plain": [
       "178.93382630303634"
      ]
     },
     "execution_count": 86,
     "metadata": {},
     "output_type": "execute_result"
    }
   ],
   "source": [
    "mean_absolute_error(y_test,predictions)"
   ]
  },
  {
   "cell_type": "code",
   "execution_count": 87,
   "metadata": {},
   "outputs": [
    {
     "data": {
      "text/plain": [
       "701.1730621454113"
      ]
     },
     "execution_count": 87,
     "metadata": {},
     "output_type": "execute_result"
    }
   ],
   "source": [
    "np.sqrt(mean_squared_error(y_test,predictions))"
   ]
  },
  {
   "cell_type": "code",
   "execution_count": 88,
   "metadata": {
    "scrolled": true
   },
   "outputs": [
    {
     "data": {
      "text/plain": [
       "0.8757313542677969"
      ]
     },
     "execution_count": 88,
     "metadata": {},
     "output_type": "execute_result"
    }
   ],
   "source": [
    "explained_variance_score(y_test,predictions)"
   ]
  },
  {
   "cell_type": "code",
   "execution_count": 89,
   "metadata": {
    "scrolled": true
   },
   "outputs": [
    {
     "data": {
      "text/plain": [
       "0.8740899172546988"
      ]
     },
     "execution_count": 89,
     "metadata": {},
     "output_type": "execute_result"
    }
   ],
   "source": [
    "r2_score(y_test,predictions)"
   ]
  },
  {
   "cell_type": "code",
   "execution_count": 39,
   "metadata": {},
   "outputs": [
    {
     "data": {
      "text/plain": [
       "(906.4668554418064, 312.0)"
      ]
     },
     "execution_count": 39,
     "metadata": {},
     "output_type": "execute_result"
    }
   ],
   "source": [
    "newdf['NODE_MINUTES'].mean(), newdf['NODE_MINUTES'].median()"
   ]
  },
  {
   "cell_type": "code",
   "execution_count": 90,
   "metadata": {},
   "outputs": [
    {
     "data": {
      "text/plain": [
       "[<matplotlib.lines.Line2D at 0xe57887a4e0>]"
      ]
     },
     "execution_count": 90,
     "metadata": {},
     "output_type": "execute_result"
    },
    {
     "data": {
      "image/png": "[encoded data removed]",
      "text/plain": [
       "<Figure size 432x288 with 1 Axes>"
      ]
     },
     "metadata": {
      "needs_background": "light"
     },
     "output_type": "display_data"
    }
   ],
   "source": [
    "# Our predictions\n",
    "plt.scatter(y_test,predictions)\n",
    "\n",
    "# Perfect predictions\n",
    "plt.plot(y_test,y_test,'r')"
   ]
  },
  {
   "cell_type": "code",
   "execution_count": 66,
   "metadata": {},
   "outputs": [],
   "source": [
    "errors = y_test.values.reshape(11019, 1) - predictions"
   ]
  },
  {
   "cell_type": "code",
   "execution_count": 67,
   "metadata": {},
   "outputs": [
    {
     "data": {
      "text/plain": [
       "<matplotlib.axes._subplots.AxesSubplot at 0xe576299a58>"
      ]
     },
     "execution_count": 67,
     "metadata": {},
     "output_type": "execute_result"
    },
    {
     "data": {
      "image/png": "[encoded data removed]",
      "text/plain": [
       "<Figure size 432x288 with 1 Axes>"
      ]
     },
     "metadata": {
      "needs_background": "light"
     },
     "output_type": "display_data"
    }
   ],
   "source": [
    "sns.distplot(errors)"
   ]
  },
  {
   "cell_type": "markdown",
   "metadata": {},
   "source": [
    "# Predicting on blind testing data"
   ]
  },
  {
   "cell_type": "code",
   "execution_count": 93,
   "metadata": {},
   "outputs": [
    {
     "data": {
      "text/html": [
       "<div>\n",
       "<style scoped>\n",
       "    .dataframe tbody tr th:only-of-type {\n",
       "        vertical-align: middle;\n",
       "    }\n",
       "\n",
       "    .dataframe tbody tr th {\n",
       "        vertical-align: top;\n",
       "    }\n",
       "\n",
       "    .dataframe thead th {\n",
       "        text-align: right;\n",
       "    }\n",
       "</style>\n",
       "<table border=\"1\" class=\"dataframe\">\n",
       "  <thead>\n",
       "    <tr style=\"text-align: right;\">\n",
       "      <th></th>\n",
       "      <th>ID</th>\n",
       "      <th>NODES</th>\n",
       "      <th>SHOTS</th>\n",
       "      <th>NCPU</th>\n",
       "      <th>ATTR06</th>\n",
       "      <th>ATTR10</th>\n",
       "      <th>ATTR17</th>\n",
       "      <th>ATTR18</th>\n",
       "      <th>ATTR20</th>\n",
       "      <th>ATTR21</th>\n",
       "      <th>...</th>\n",
       "      <th>ATTR33</th>\n",
       "      <th>ATTR34</th>\n",
       "      <th>ATTR35</th>\n",
       "      <th>ATTR36</th>\n",
       "      <th>ATTR37</th>\n",
       "      <th>ATTR38</th>\n",
       "      <th>ATTR39</th>\n",
       "      <th>ATTR30</th>\n",
       "      <th>ATTR31.1</th>\n",
       "      <th>ATTR32.1</th>\n",
       "    </tr>\n",
       "  </thead>\n",
       "  <tbody>\n",
       "    <tr>\n",
       "      <th>0</th>\n",
       "      <td>461167196</td>\n",
       "      <td>4</td>\n",
       "      <td>182</td>\n",
       "      <td>2</td>\n",
       "      <td>0.0</td>\n",
       "      <td>2470</td>\n",
       "      <td>192</td>\n",
       "      <td>192</td>\n",
       "      <td>299</td>\n",
       "      <td>23.422</td>\n",
       "      <td>...</td>\n",
       "      <td>962090</td>\n",
       "      <td>7723424940</td>\n",
       "      <td>225</td>\n",
       "      <td>8</td>\n",
       "      <td>1793</td>\n",
       "      <td>0</td>\n",
       "      <td>0</td>\n",
       "      <td>0</td>\n",
       "      <td>0</td>\n",
       "      <td>0</td>\n",
       "    </tr>\n",
       "    <tr>\n",
       "      <th>1</th>\n",
       "      <td>461167218</td>\n",
       "      <td>4</td>\n",
       "      <td>289</td>\n",
       "      <td>2</td>\n",
       "      <td>0.0</td>\n",
       "      <td>2470</td>\n",
       "      <td>192</td>\n",
       "      <td>192</td>\n",
       "      <td>299</td>\n",
       "      <td>23.539</td>\n",
       "      <td>...</td>\n",
       "      <td>2630227</td>\n",
       "      <td>21115132968</td>\n",
       "      <td>225</td>\n",
       "      <td>8</td>\n",
       "      <td>1793</td>\n",
       "      <td>0</td>\n",
       "      <td>0</td>\n",
       "      <td>0</td>\n",
       "      <td>0</td>\n",
       "      <td>0</td>\n",
       "    </tr>\n",
       "    <tr>\n",
       "      <th>2</th>\n",
       "      <td>461027768</td>\n",
       "      <td>8</td>\n",
       "      <td>237</td>\n",
       "      <td>4</td>\n",
       "      <td>0.0</td>\n",
       "      <td>1508</td>\n",
       "      <td>160</td>\n",
       "      <td>160</td>\n",
       "      <td>215</td>\n",
       "      <td>11.214</td>\n",
       "      <td>...</td>\n",
       "      <td>2233219</td>\n",
       "      <td>10799695265</td>\n",
       "      <td>133</td>\n",
       "      <td>8</td>\n",
       "      <td>1063</td>\n",
       "      <td>0</td>\n",
       "      <td>0</td>\n",
       "      <td>0</td>\n",
       "      <td>0</td>\n",
       "      <td>0</td>\n",
       "    </tr>\n",
       "    <tr>\n",
       "      <th>3</th>\n",
       "      <td>459849022</td>\n",
       "      <td>8</td>\n",
       "      <td>343</td>\n",
       "      <td>2</td>\n",
       "      <td>0.0</td>\n",
       "      <td>2512</td>\n",
       "      <td>224</td>\n",
       "      <td>160</td>\n",
       "      <td>212</td>\n",
       "      <td>17.756</td>\n",
       "      <td>...</td>\n",
       "      <td>1534193</td>\n",
       "      <td>16532402864</td>\n",
       "      <td>157</td>\n",
       "      <td>8</td>\n",
       "      <td>1251</td>\n",
       "      <td>0</td>\n",
       "      <td>0</td>\n",
       "      <td>0</td>\n",
       "      <td>0</td>\n",
       "      <td>0</td>\n",
       "    </tr>\n",
       "    <tr>\n",
       "      <th>4</th>\n",
       "      <td>459849035</td>\n",
       "      <td>8</td>\n",
       "      <td>343</td>\n",
       "      <td>4</td>\n",
       "      <td>0.0</td>\n",
       "      <td>2512</td>\n",
       "      <td>224</td>\n",
       "      <td>160</td>\n",
       "      <td>212</td>\n",
       "      <td>17.805</td>\n",
       "      <td>...</td>\n",
       "      <td>1737591</td>\n",
       "      <td>18723909926</td>\n",
       "      <td>157</td>\n",
       "      <td>8</td>\n",
       "      <td>1251</td>\n",
       "      <td>0</td>\n",
       "      <td>0</td>\n",
       "      <td>0</td>\n",
       "      <td>0</td>\n",
       "      <td>0</td>\n",
       "    </tr>\n",
       "  </tbody>\n",
       "</table>\n",
       "<p>5 rows × 21 columns</p>\n",
       "</div>"
      ],
      "text/plain": [
       "          ID  NODES  SHOTS  NCPU  ATTR06  ATTR10  ATTR17  ATTR18  ATTR20  \\\n",
       "0  461167196      4    182     2     0.0    2470     192     192     299   \n",
       "1  461167218      4    289     2     0.0    2470     192     192     299   \n",
       "2  461027768      8    237     4     0.0    1508     160     160     215   \n",
       "3  459849022      8    343     2     0.0    2512     224     160     212   \n",
       "4  459849035      8    343     4     0.0    2512     224     160     212   \n",
       "\n",
       "   ATTR21  ...   ATTR33       ATTR34  ATTR35  ATTR36  ATTR37  ATTR38  ATTR39  \\\n",
       "0  23.422  ...   962090   7723424940     225       8    1793       0       0   \n",
       "1  23.539  ...  2630227  21115132968     225       8    1793       0       0   \n",
       "2  11.214  ...  2233219  10799695265     133       8    1063       0       0   \n",
       "3  17.756  ...  1534193  16532402864     157       8    1251       0       0   \n",
       "4  17.805  ...  1737591  18723909926     157       8    1251       0       0   \n",
       "\n",
       "   ATTR30  ATTR31.1  ATTR32.1  \n",
       "0       0         0         0  \n",
       "1       0         0         0  \n",
       "2       0         0         0  \n",
       "3       0         0         0  \n",
       "4       0         0         0  \n",
       "\n",
       "[5 rows x 21 columns]"
      ]
     },
     "execution_count": 93,
     "metadata": {},
     "output_type": "execute_result"
    }
   ],
   "source": [
    "df_2 = pd.read_csv('testData_xiaodan.csv')\n",
    "keep_col = X.columns\n",
    "df_2 = df_2[keep_col].copy()\n",
    "df_2.head()"
   ]
  },
  {
   "cell_type": "code",
   "execution_count": 94,
   "metadata": {},
   "outputs": [
    {
     "data": {
      "text/plain": [
       "0    461167196\n",
       "1    461167218\n",
       "2    461027768\n",
       "3    459849022\n",
       "4    459849035\n",
       "Name: ID, dtype: int64"
      ]
     },
     "execution_count": 94,
     "metadata": {},
     "output_type": "execute_result"
    }
   ],
   "source": [
    "final_df = df_2['ID'].copy()\n",
    "final_df.head()"
   ]
  },
  {
   "cell_type": "code",
   "execution_count": 95,
   "metadata": {},
   "outputs": [],
   "source": [
    "df_2 = scaler.transform(df_2.values.reshape(-1, 21))"
   ]
  },
  {
   "cell_type": "code",
   "execution_count": 96,
   "metadata": {},
   "outputs": [],
   "source": [
    "pred = model.predict(df_2)"
   ]
  },
  {
   "cell_type": "code",
   "execution_count": 97,
   "metadata": {
    "scrolled": true
   },
   "outputs": [
    {
     "data": {
      "text/plain": [
       "(980.3853, 418.47266, 1700.2017)"
      ]
     },
     "execution_count": 97,
     "metadata": {},
     "output_type": "execute_result"
    }
   ],
   "source": [
    "pred.mean(), np.median(pred), pred.std()"
   ]
  },
  {
   "cell_type": "code",
   "execution_count": 98,
   "metadata": {},
   "outputs": [
    {
     "data": {
      "text/plain": [
       "<matplotlib.axes._subplots.AxesSubplot at 0xe57c7d0ba8>"
      ]
     },
     "execution_count": 98,
     "metadata": {},
     "output_type": "execute_result"
    },
    {
     "data": {
      "image/png": "[encoded data removed]",
      "text/plain": [
       "<Figure size 432x288 with 1 Axes>"
      ]
     },
     "metadata": {
      "needs_background": "light"
     },
     "output_type": "display_data"
    }
   ],
   "source": [
    "sns.distplot(pred)"
   ]
  },
  {
   "cell_type": "code",
   "execution_count": 99,
   "metadata": {},
   "outputs": [
    {
     "data": {
      "text/html": [
       "<div>\n",
       "<style scoped>\n",
       "    .dataframe tbody tr th:only-of-type {\n",
       "        vertical-align: middle;\n",
       "    }\n",
       "\n",
       "    .dataframe tbody tr th {\n",
       "        vertical-align: top;\n",
       "    }\n",
       "\n",
       "    .dataframe thead th {\n",
       "        text-align: right;\n",
       "    }\n",
       "</style>\n",
       "<table border=\"1\" class=\"dataframe\">\n",
       "  <thead>\n",
       "    <tr style=\"text-align: right;\">\n",
       "      <th></th>\n",
       "      <th>ID</th>\n",
       "      <th>NODE_MINUTES</th>\n",
       "    </tr>\n",
       "  </thead>\n",
       "  <tbody>\n",
       "    <tr>\n",
       "      <th>0</th>\n",
       "      <td>461167196</td>\n",
       "      <td>561.875305</td>\n",
       "    </tr>\n",
       "    <tr>\n",
       "      <th>1</th>\n",
       "      <td>461167218</td>\n",
       "      <td>883.100891</td>\n",
       "    </tr>\n",
       "    <tr>\n",
       "      <th>2</th>\n",
       "      <td>461027768</td>\n",
       "      <td>344.307800</td>\n",
       "    </tr>\n",
       "    <tr>\n",
       "      <th>3</th>\n",
       "      <td>459849022</td>\n",
       "      <td>637.416931</td>\n",
       "    </tr>\n",
       "    <tr>\n",
       "      <th>4</th>\n",
       "      <td>459849035</td>\n",
       "      <td>552.065552</td>\n",
       "    </tr>\n",
       "  </tbody>\n",
       "</table>\n",
       "</div>"
      ],
      "text/plain": [
       "          ID  NODE_MINUTES\n",
       "0  461167196    561.875305\n",
       "1  461167218    883.100891\n",
       "2  461027768    344.307800\n",
       "3  459849022    637.416931\n",
       "4  459849035    552.065552"
      ]
     },
     "execution_count": 99,
     "metadata": {},
     "output_type": "execute_result"
    }
   ],
   "source": [
    "final_df = pd.concat([final_df, pd.DataFrame(pred)], axis=1)\n",
    "final_df.columns =['ID', 'NODE_MINUTES']\n",
    "final_df.head()"
   ]
  },
  {
   "cell_type": "code",
   "execution_count": 100,
   "metadata": {},
   "outputs": [],
   "source": [
    "final_df.to_csv('test_pred_Xiaodan.csv')"
   ]
  },
  {
   "cell_type": "code",
   "execution_count": null,
   "metadata": {},
   "outputs": [],
   "source": []
  }
 ],
 "metadata": {
  "kernelspec": {
   "display_name": "Python 3",
   "language": "python",
   "name": "python3"
  },
  "language_info": {
   "codemirror_mode": {
    "name": "ipython",
    "version": 3
   },
   "file_extension": ".py",
   "mimetype": "text/x-python",
   "name": "python",
   "nbconvert_exporter": "python",
   "pygments_lexer": "ipython3",
   "version": "3.7.6"
  }
 },
 "nbformat": 4,
 "nbformat_minor": 4
}
